{
  "cells": [
    {
      "cell_type": "markdown",
      "metadata": {
        "id": "view-in-github",
        "colab_type": "text"
      },
      "source": [
        "<a href=\"https://colab.research.google.com/github/kelsingo/CASTICaD/blob/main/SVMFramework_1_0.ipynb\" target=\"_parent\"><img src=\"https://colab.research.google.com/assets/colab-badge.svg\" alt=\"Open In Colab\"/></a>"
      ]
    },
    {
      "cell_type": "code",
      "execution_count": null,
      "metadata": {
        "colab": {
          "base_uri": "https://localhost:8080/",
          "height": 100,
          "referenced_widgets": [
            "5b355461449948f6b9f9076486c44b60",
            "fff0e412dea44dc9960e60633c656ae2",
            "58a48c3ccf4a4db784ded9be87e308a5",
            "ddd1ccaaeaed49948574af5ecc7f2aa0",
            "9d13d7eb21ef4825b47692ab3b359d45",
            "68410bd191af41378ce2727bfcfae774",
            "a100fa15eb284b089b1be1054fe4efb7",
            "30f0f99103ac406eadfa88e7c5717dc7",
            "46ee07d21052480da414e0ce071013f2",
            "b6c5cb4591b04baaa0ce1975132f60a2",
            "0bb9ad586fef4200b3d948cae4fee890",
            "498d92805c0d41359bc8e8eb86aa576b",
            "fcba232276be4c7aba2437f3ccd46766",
            "fb42b1e1d0674dea8dc10d658fe8ef85",
            "dc7febcc8d064b4ea38aacbe2f3c4864",
            "ed077d0409e44817ab842d7305a53982",
            "39ba6784ef0f49008a1b8b9c0f76ab29",
            "896406bd3bee43ce94bb6ea246401da8",
            "4d6c09f1d534441082ac161d38e452e1",
            "2d0670823a954bc287c1fa9edd1ed007",
            "7e55e19b76eb4636bbf2fe234e17f56b",
            "f79c76da24ae46a48b3f5126e1931583",
            "f8c2703e05784b29926c3abe46342745"
          ]
        },
        "collapsed": true,
        "id": "ZkOlk-JeTtvX",
        "outputId": "6a14827f-4fa6-464d-82ac-bad7030417af"
      },
      "outputs": [
        {
          "output_type": "display_data",
          "data": {
            "text/plain": [
              "VBox(children=(HTML(value='<center> <img\\nsrc=https://www.kaggle.com/static/images/site-logo.png\\nalt=\\'Kaggle…"
            ],
            "application/vnd.jupyter.widget-view+json": {
              "version_major": 2,
              "version_minor": 0,
              "model_id": "5b355461449948f6b9f9076486c44b60"
            }
          },
          "metadata": {}
        },
        {
          "output_type": "stream",
          "name": "stdout",
          "text": [
            "Kaggle credentials set.\n",
            "Warning: Looks like you're using an outdated `kagglehub` version (installed: 0.3.12), please consider upgrading to the latest version (0.3.13).\n",
            "Kaggle credentials successfully validated.\n"
          ]
        }
      ],
      "source": [
        "# IMPORTANT: SOME KAGGLE DATA SOURCES ARE PRIVATE\n",
        "# RUN THIS CELL IN ORDER TO IMPORT YOUR KAGGLE DATA SOURCES.\n",
        "import kagglehub\n",
        "kagglehub.login()\n"
      ]
    },
    {
      "cell_type": "code",
      "execution_count": null,
      "metadata": {
        "colab": {
          "base_uri": "https://localhost:8080/"
        },
        "collapsed": true,
        "id": "EBGtw0eNTtva",
        "outputId": "0116f683-4666-4444-a25b-2d25a53f589a"
      },
      "outputs": [
        {
          "output_type": "stream",
          "name": "stdout",
          "text": [
            "Warning: Looks like you're using an outdated `kagglehub` version (installed: 0.3.12), please consider upgrading to the latest version (0.3.13).\n",
            "Downloading from https://www.kaggle.com/api/v1/datasets/download/kelsingo/brainnetome-to-yeo7?dataset_version_number=2...\n"
          ]
        },
        {
          "output_type": "stream",
          "name": "stderr",
          "text": [
            "100%|██████████| 1.63k/1.63k [00:00<00:00, 3.03MB/s]"
          ]
        },
        {
          "output_type": "stream",
          "name": "stdout",
          "text": [
            "Extracting files...\n"
          ]
        },
        {
          "output_type": "stream",
          "name": "stderr",
          "text": [
            "\n"
          ]
        },
        {
          "output_type": "stream",
          "name": "stdout",
          "text": [
            "Warning: Looks like you're using an outdated `kagglehub` version (installed: 0.3.12), please consider upgrading to the latest version (0.3.13).\n",
            "Downloading from https://www.kaggle.com/api/v1/datasets/download/kelsingo/brainnetome?dataset_version_number=1...\n"
          ]
        },
        {
          "output_type": "stream",
          "name": "stderr",
          "text": [
            "100%|██████████| 42.4k/42.4k [00:00<00:00, 16.0MB/s]"
          ]
        },
        {
          "output_type": "stream",
          "name": "stdout",
          "text": [
            "Extracting files...\n"
          ]
        },
        {
          "output_type": "stream",
          "name": "stderr",
          "text": [
            "\n"
          ]
        },
        {
          "output_type": "stream",
          "name": "stdout",
          "text": [
            "Warning: Looks like you're using an outdated `kagglehub` version (installed: 0.3.12), please consider upgrading to the latest version (0.3.13).\n",
            "Downloading from https://www.kaggle.com/api/v1/datasets/download/kelsingo/lemon-mri?dataset_version_number=2...\n"
          ]
        },
        {
          "output_type": "stream",
          "name": "stderr",
          "text": [
            "100%|██████████| 539M/539M [00:08<00:00, 64.3MB/s]"
          ]
        },
        {
          "output_type": "stream",
          "name": "stdout",
          "text": [
            "Extracting files...\n"
          ]
        },
        {
          "output_type": "stream",
          "name": "stderr",
          "text": [
            "\n"
          ]
        },
        {
          "output_type": "stream",
          "name": "stdout",
          "text": [
            "Data source import complete.\n"
          ]
        }
      ],
      "source": [
        "# IMPORTANT: RUN THIS CELL IN ORDER TO IMPORT YOUR KAGGLE DATA SOURCES,\n",
        "# THEN FEEL FREE TO DELETE THIS CELL.\n",
        "# NOTE: THIS NOTEBOOK ENVIRONMENT DIFFERS FROM KAGGLE'S PYTHON\n",
        "# ENVIRONMENT SO THERE MAY BE MISSING LIBRARIES USED BY YOUR\n",
        "# NOTEBOOK.\n",
        "\n",
        "kelsingo_brainnetome_to_yeo7_path = kagglehub.dataset_download('kelsingo/brainnetome-to-yeo7')\n",
        "kelsingo_brainnetome_path = kagglehub.dataset_download('kelsingo/brainnetome')\n",
        "kelsingo_lemon_mri_path = kagglehub.dataset_download('kelsingo/lemon-mri')\n",
        "\n",
        "print('Data source import complete.')\n"
      ]
    },
    {
      "cell_type": "markdown",
      "metadata": {
        "id": "BVkb8yhzTtvb"
      },
      "source": [
        "# Model Construction"
      ]
    },
    {
      "cell_type": "code",
      "execution_count": null,
      "metadata": {
        "colab": {
          "base_uri": "https://localhost:8080/"
        },
        "collapsed": true,
        "id": "uFi_bIWPTtvc",
        "outputId": "7edded68-c4f9-4a11-bbc5-2785d3777be9"
      },
      "outputs": [
        {
          "output_type": "stream",
          "name": "stdout",
          "text": [
            "Requirement already satisfied: scikit-learn==1.6.1 in /usr/local/lib/python3.12/dist-packages (1.6.1)\n",
            "Requirement already satisfied: imbalanced-learn in /usr/local/lib/python3.12/dist-packages (0.14.0)\n",
            "Requirement already satisfied: numpy>=1.19.5 in /usr/local/lib/python3.12/dist-packages (from scikit-learn==1.6.1) (2.0.2)\n",
            "Requirement already satisfied: scipy>=1.6.0 in /usr/local/lib/python3.12/dist-packages (from scikit-learn==1.6.1) (1.16.1)\n",
            "Requirement already satisfied: joblib>=1.2.0 in /usr/local/lib/python3.12/dist-packages (from scikit-learn==1.6.1) (1.5.1)\n",
            "Requirement already satisfied: threadpoolctl>=3.1.0 in /usr/local/lib/python3.12/dist-packages (from scikit-learn==1.6.1) (3.6.0)\n"
          ]
        }
      ],
      "source": [
        "pip install scikit-learn==1.6.1 imbalanced-learn"
      ]
    },
    {
      "cell_type": "code",
      "execution_count": null,
      "metadata": {
        "id": "zhvkK5FsTtvd"
      },
      "outputs": [],
      "source": [
        "import os\n",
        "import numpy as np\n",
        "import pandas as pd\n",
        "import torch\n",
        "from torch import nn\n",
        "from torch.utils.data import Dataset, DataLoader, TensorDataset\n",
        "import glob\n",
        "import matplotlib.pyplot as plt\n",
        "import seaborn as sns\n",
        "from sklearn.model_selection import train_test_split\n",
        "import random"
      ]
    },
    {
      "cell_type": "code",
      "execution_count": null,
      "metadata": {
        "id": "yoZPJWSXTtvd"
      },
      "outputs": [],
      "source": [
        "seed_value = 42\n",
        "os.environ['PYTHONHASHSEED'] = str(seed_value)\n",
        "random.seed(seed_value)\n",
        "np.random.seed(seed_value)\n",
        "torch.manual_seed(seed_value)\n",
        "torch.cuda.manual_seed(seed_value)\n",
        "torch.cuda.manual_seed_all(seed_value)\n",
        "torch.backends.cudnn.deterministic = True\n",
        "torch.backends.cudnn.benchmark = False"
      ]
    },
    {
      "cell_type": "markdown",
      "metadata": {
        "id": "SYxZQesKTtvd"
      },
      "source": [
        "## Mamba"
      ]
    },
    {
      "cell_type": "code",
      "execution_count": null,
      "metadata": {
        "colab": {
          "base_uri": "https://localhost:8080/"
        },
        "collapsed": true,
        "id": "R3PNrSt1Ttvd",
        "outputId": "de91f70b-6ac8-430e-f7a1-3709a196acad"
      },
      "outputs": [
        {
          "output_type": "stream",
          "name": "stdout",
          "text": [
            "Collecting mamba-ssm\n",
            "  Downloading mamba_ssm-2.2.5.tar.gz (113 kB)\n",
            "\u001b[?25l     \u001b[90m━━━━━━━━━━━━━━━━━━━━━━━━━━━━━━━━━━━━━━━━\u001b[0m \u001b[32m0.0/113.8 kB\u001b[0m \u001b[31m?\u001b[0m eta \u001b[36m-:--:--\u001b[0m\r\u001b[2K     \u001b[91m━━━━━━━━━━━━━━━━━━━━━━━━━━━━━━━━━━━━━━\u001b[0m\u001b[91m╸\u001b[0m \u001b[32m112.6/113.8 kB\u001b[0m \u001b[31m4.1 MB/s\u001b[0m eta \u001b[36m0:00:01\u001b[0m\r\u001b[2K     \u001b[90m━━━━━━━━━━━━━━━━━━━━━━━━━━━━━━━━━━━━━━━\u001b[0m \u001b[32m113.8/113.8 kB\u001b[0m \u001b[31m3.0 MB/s\u001b[0m eta \u001b[36m0:00:00\u001b[0m\n",
            "\u001b[?25h  Preparing metadata (pyproject.toml) ... \u001b[?25l\u001b[?25hdone\n",
            "Requirement already satisfied: torch in /usr/local/lib/python3.12/dist-packages (from mamba-ssm) (2.8.0+cu126)\n",
            "Requirement already satisfied: triton in /usr/local/lib/python3.12/dist-packages (from mamba-ssm) (3.4.0)\n",
            "Collecting ninja (from mamba-ssm)\n",
            "  Downloading ninja-1.13.0-py3-none-manylinux2014_x86_64.manylinux_2_17_x86_64.whl.metadata (5.1 kB)\n",
            "Requirement already satisfied: einops in /usr/local/lib/python3.12/dist-packages (from mamba-ssm) (0.8.1)\n",
            "Requirement already satisfied: transformers in /usr/local/lib/python3.12/dist-packages (from mamba-ssm) (4.55.4)\n",
            "Requirement already satisfied: packaging in /usr/local/lib/python3.12/dist-packages (from mamba-ssm) (25.0)\n",
            "Requirement already satisfied: setuptools>=61.0.0 in /usr/local/lib/python3.12/dist-packages (from mamba-ssm) (75.2.0)\n",
            "Requirement already satisfied: filelock in /usr/local/lib/python3.12/dist-packages (from torch->mamba-ssm) (3.19.1)\n",
            "Requirement already satisfied: typing-extensions>=4.10.0 in /usr/local/lib/python3.12/dist-packages (from torch->mamba-ssm) (4.15.0)\n",
            "Requirement already satisfied: sympy>=1.13.3 in /usr/local/lib/python3.12/dist-packages (from torch->mamba-ssm) (1.13.3)\n",
            "Requirement already satisfied: networkx in /usr/local/lib/python3.12/dist-packages (from torch->mamba-ssm) (3.5)\n",
            "Requirement already satisfied: jinja2 in /usr/local/lib/python3.12/dist-packages (from torch->mamba-ssm) (3.1.6)\n",
            "Requirement already satisfied: fsspec in /usr/local/lib/python3.12/dist-packages (from torch->mamba-ssm) (2025.3.0)\n",
            "Requirement already satisfied: nvidia-cuda-nvrtc-cu12==12.6.77 in /usr/local/lib/python3.12/dist-packages (from torch->mamba-ssm) (12.6.77)\n",
            "Requirement already satisfied: nvidia-cuda-runtime-cu12==12.6.77 in /usr/local/lib/python3.12/dist-packages (from torch->mamba-ssm) (12.6.77)\n",
            "Requirement already satisfied: nvidia-cuda-cupti-cu12==12.6.80 in /usr/local/lib/python3.12/dist-packages (from torch->mamba-ssm) (12.6.80)\n",
            "Requirement already satisfied: nvidia-cudnn-cu12==9.10.2.21 in /usr/local/lib/python3.12/dist-packages (from torch->mamba-ssm) (9.10.2.21)\n",
            "Requirement already satisfied: nvidia-cublas-cu12==12.6.4.1 in /usr/local/lib/python3.12/dist-packages (from torch->mamba-ssm) (12.6.4.1)\n",
            "Requirement already satisfied: nvidia-cufft-cu12==11.3.0.4 in /usr/local/lib/python3.12/dist-packages (from torch->mamba-ssm) (11.3.0.4)\n",
            "Requirement already satisfied: nvidia-curand-cu12==10.3.7.77 in /usr/local/lib/python3.12/dist-packages (from torch->mamba-ssm) (10.3.7.77)\n",
            "Requirement already satisfied: nvidia-cusolver-cu12==11.7.1.2 in /usr/local/lib/python3.12/dist-packages (from torch->mamba-ssm) (11.7.1.2)\n",
            "Requirement already satisfied: nvidia-cusparse-cu12==12.5.4.2 in /usr/local/lib/python3.12/dist-packages (from torch->mamba-ssm) (12.5.4.2)\n",
            "Requirement already satisfied: nvidia-cusparselt-cu12==0.7.1 in /usr/local/lib/python3.12/dist-packages (from torch->mamba-ssm) (0.7.1)\n",
            "Requirement already satisfied: nvidia-nccl-cu12==2.27.3 in /usr/local/lib/python3.12/dist-packages (from torch->mamba-ssm) (2.27.3)\n",
            "Requirement already satisfied: nvidia-nvtx-cu12==12.6.77 in /usr/local/lib/python3.12/dist-packages (from torch->mamba-ssm) (12.6.77)\n",
            "Requirement already satisfied: nvidia-nvjitlink-cu12==12.6.85 in /usr/local/lib/python3.12/dist-packages (from torch->mamba-ssm) (12.6.85)\n",
            "Requirement already satisfied: nvidia-cufile-cu12==1.11.1.6 in /usr/local/lib/python3.12/dist-packages (from torch->mamba-ssm) (1.11.1.6)\n",
            "Requirement already satisfied: huggingface-hub<1.0,>=0.34.0 in /usr/local/lib/python3.12/dist-packages (from transformers->mamba-ssm) (0.34.4)\n",
            "Requirement already satisfied: numpy>=1.17 in /usr/local/lib/python3.12/dist-packages (from transformers->mamba-ssm) (2.0.2)\n",
            "Requirement already satisfied: pyyaml>=5.1 in /usr/local/lib/python3.12/dist-packages (from transformers->mamba-ssm) (6.0.2)\n",
            "Requirement already satisfied: regex!=2019.12.17 in /usr/local/lib/python3.12/dist-packages (from transformers->mamba-ssm) (2024.11.6)\n",
            "Requirement already satisfied: requests in /usr/local/lib/python3.12/dist-packages (from transformers->mamba-ssm) (2.32.4)\n",
            "Requirement already satisfied: tokenizers<0.22,>=0.21 in /usr/local/lib/python3.12/dist-packages (from transformers->mamba-ssm) (0.21.4)\n",
            "Requirement already satisfied: safetensors>=0.4.3 in /usr/local/lib/python3.12/dist-packages (from transformers->mamba-ssm) (0.6.2)\n",
            "Requirement already satisfied: tqdm>=4.27 in /usr/local/lib/python3.12/dist-packages (from transformers->mamba-ssm) (4.67.1)\n",
            "Requirement already satisfied: hf-xet<2.0.0,>=1.1.3 in /usr/local/lib/python3.12/dist-packages (from huggingface-hub<1.0,>=0.34.0->transformers->mamba-ssm) (1.1.8)\n",
            "Requirement already satisfied: mpmath<1.4,>=1.1.0 in /usr/local/lib/python3.12/dist-packages (from sympy>=1.13.3->torch->mamba-ssm) (1.3.0)\n",
            "Requirement already satisfied: MarkupSafe>=2.0 in /usr/local/lib/python3.12/dist-packages (from jinja2->torch->mamba-ssm) (3.0.2)\n",
            "Requirement already satisfied: charset_normalizer<4,>=2 in /usr/local/lib/python3.12/dist-packages (from requests->transformers->mamba-ssm) (3.4.3)\n",
            "Requirement already satisfied: idna<4,>=2.5 in /usr/local/lib/python3.12/dist-packages (from requests->transformers->mamba-ssm) (3.10)\n",
            "Requirement already satisfied: urllib3<3,>=1.21.1 in /usr/local/lib/python3.12/dist-packages (from requests->transformers->mamba-ssm) (2.5.0)\n",
            "Requirement already satisfied: certifi>=2017.4.17 in /usr/local/lib/python3.12/dist-packages (from requests->transformers->mamba-ssm) (2025.8.3)\n",
            "Downloading ninja-1.13.0-py3-none-manylinux2014_x86_64.manylinux_2_17_x86_64.whl (180 kB)\n",
            "\u001b[2K   \u001b[90m━━━━━━━━━━━━━━━━━━━━━━━━━━━━━━━━━━━━━━━━\u001b[0m \u001b[32m180.7/180.7 kB\u001b[0m \u001b[31m8.7 MB/s\u001b[0m eta \u001b[36m0:00:00\u001b[0m\n",
            "\u001b[?25hBuilding wheels for collected packages: mamba-ssm\n",
            "  Building wheel for mamba-ssm (pyproject.toml) ... \u001b[?25l\u001b[?25hdone\n",
            "  Created wheel for mamba-ssm: filename=mamba_ssm-2.2.5-cp312-cp312-linux_x86_64.whl size=532566033 sha256=c8b65fcabfb49a94456c9971619007218e4073f19a84fb6b3894f33d43bee4a1\n",
            "  Stored in directory: /root/.cache/pip/wheels/21/55/c4/85b634055d6a9b599d27f5cbeacf353c6c532d8e2d8769960b\n",
            "Successfully built mamba-ssm\n",
            "Installing collected packages: ninja, mamba-ssm\n",
            "Successfully installed mamba-ssm-2.2.5 ninja-1.13.0\n"
          ]
        }
      ],
      "source": [
        "!pip install mamba-ssm --no-build-isolation"
      ]
    },
    {
      "cell_type": "code",
      "execution_count": null,
      "metadata": {
        "id": "jJtexX3VTtve"
      },
      "outputs": [],
      "source": [
        "from mamba_ssm import Mamba\n",
        "import torch\n",
        "import torch.nn as nn\n",
        "\n",
        "class MambaModule(nn.Module):\n",
        "    def __init__(self, input_dim):\n",
        "        super().__init__()\n",
        "        self.mb = Mamba(d_model=input_dim, d_state=16, d_conv=4, expand=2)\n",
        "        self.norm = nn.LayerNorm(input_dim)\n",
        "\n",
        "    def forward(self, x):\n",
        "        out = self.mb(x)\n",
        "        return out"
      ]
    },
    {
      "cell_type": "markdown",
      "metadata": {
        "id": "cL2mHVv4Ttve"
      },
      "source": [
        "## FC Calculation"
      ]
    },
    {
      "cell_type": "code",
      "execution_count": null,
      "metadata": {
        "colab": {
          "base_uri": "https://localhost:8080/"
        },
        "collapsed": true,
        "id": "OFT6hyz3Ttve",
        "outputId": "e45e0347-37f4-4dc8-f41d-23518c87159c"
      },
      "outputs": [
        {
          "output_type": "stream",
          "name": "stdout",
          "text": [
            "Collecting nilearn\n",
            "  Downloading nilearn-0.12.0-py3-none-any.whl.metadata (9.9 kB)\n",
            "Requirement already satisfied: nibabel in /usr/local/lib/python3.12/dist-packages (5.3.2)\n",
            "Requirement already satisfied: joblib>=1.2.0 in /usr/local/lib/python3.12/dist-packages (from nilearn) (1.5.1)\n",
            "Requirement already satisfied: lxml in /usr/local/lib/python3.12/dist-packages (from nilearn) (5.4.0)\n",
            "Requirement already satisfied: numpy>=1.22.4 in /usr/local/lib/python3.12/dist-packages (from nilearn) (2.0.2)\n",
            "Requirement already satisfied: packaging in /usr/local/lib/python3.12/dist-packages (from nilearn) (25.0)\n",
            "Requirement already satisfied: pandas>=2.2.0 in /usr/local/lib/python3.12/dist-packages (from nilearn) (2.2.2)\n",
            "Requirement already satisfied: requests>=2.25.0 in /usr/local/lib/python3.12/dist-packages (from nilearn) (2.32.4)\n",
            "Requirement already satisfied: scikit-learn>=1.4.0 in /usr/local/lib/python3.12/dist-packages (from nilearn) (1.6.1)\n",
            "Requirement already satisfied: scipy>=1.8.0 in /usr/local/lib/python3.12/dist-packages (from nilearn) (1.16.1)\n",
            "Requirement already satisfied: typing-extensions>=4.6 in /usr/local/lib/python3.12/dist-packages (from nibabel) (4.15.0)\n",
            "Requirement already satisfied: python-dateutil>=2.8.2 in /usr/local/lib/python3.12/dist-packages (from pandas>=2.2.0->nilearn) (2.9.0.post0)\n",
            "Requirement already satisfied: pytz>=2020.1 in /usr/local/lib/python3.12/dist-packages (from pandas>=2.2.0->nilearn) (2025.2)\n",
            "Requirement already satisfied: tzdata>=2022.7 in /usr/local/lib/python3.12/dist-packages (from pandas>=2.2.0->nilearn) (2025.2)\n",
            "Requirement already satisfied: charset_normalizer<4,>=2 in /usr/local/lib/python3.12/dist-packages (from requests>=2.25.0->nilearn) (3.4.3)\n",
            "Requirement already satisfied: idna<4,>=2.5 in /usr/local/lib/python3.12/dist-packages (from requests>=2.25.0->nilearn) (3.10)\n",
            "Requirement already satisfied: urllib3<3,>=1.21.1 in /usr/local/lib/python3.12/dist-packages (from requests>=2.25.0->nilearn) (2.5.0)\n",
            "Requirement already satisfied: certifi>=2017.4.17 in /usr/local/lib/python3.12/dist-packages (from requests>=2.25.0->nilearn) (2025.8.3)\n",
            "Requirement already satisfied: threadpoolctl>=3.1.0 in /usr/local/lib/python3.12/dist-packages (from scikit-learn>=1.4.0->nilearn) (3.6.0)\n",
            "Requirement already satisfied: six>=1.5 in /usr/local/lib/python3.12/dist-packages (from python-dateutil>=2.8.2->pandas>=2.2.0->nilearn) (1.17.0)\n",
            "Downloading nilearn-0.12.0-py3-none-any.whl (10.6 MB)\n",
            "\u001b[2K   \u001b[90m━━━━━━━━━━━━━━━━━━━━━━━━━━━━━━━━━━━━━━━━\u001b[0m \u001b[32m10.6/10.6 MB\u001b[0m \u001b[31m98.0 MB/s\u001b[0m eta \u001b[36m0:00:00\u001b[0m\n",
            "\u001b[?25hInstalling collected packages: nilearn\n",
            "Successfully installed nilearn-0.12.0\n"
          ]
        }
      ],
      "source": [
        "!pip install nilearn nibabel"
      ]
    },
    {
      "cell_type": "code",
      "execution_count": null,
      "metadata": {
        "id": "yXNSkGv5Ttve"
      },
      "outputs": [],
      "source": [
        "from nilearn.connectome import ConnectivityMeasure\n",
        "\n",
        "def FC_compute(ts):\n",
        "    correlation_measure = ConnectivityMeasure(\n",
        "        kind=\"correlation\",\n",
        "        standardize=\"zscore_sample\"\n",
        "    )\n",
        "\n",
        "    fc = correlation_measure.fit_transform([ts])[0]\n",
        "    return fc"
      ]
    },
    {
      "cell_type": "markdown",
      "metadata": {
        "id": "ohLFR14hTtve"
      },
      "source": [
        "## General Blocks"
      ]
    },
    {
      "cell_type": "code",
      "execution_count": null,
      "metadata": {
        "id": "Ot8pFWF8Ttve"
      },
      "outputs": [],
      "source": [
        "class FeedForward(nn.Module):\n",
        "    def __init__(self, dim, hidden_mult=4, dropout=0.1):\n",
        "        super().__init__()\n",
        "        self.ffw = nn.Sequential(\n",
        "            nn.Linear(dim, hidden_mult*dim),\n",
        "            nn.GELU(),\n",
        "            nn.Dropout(dropout),\n",
        "            nn.Linear(hidden_mult*dim, dim),\n",
        "            nn.Dropout(dropout),\n",
        "        )\n",
        "    def forward(self, x):\n",
        "        return self.ffw(x)"
      ]
    },
    {
      "cell_type": "code",
      "execution_count": null,
      "metadata": {
        "id": "dTDrPhJ3Ttve"
      },
      "outputs": [],
      "source": [
        "class SelfAttention(nn.Module):\n",
        "    def __init__(self, dim, heads=8, dropout=0.0, batch_first=True):\n",
        "        super().__init__()\n",
        "        self.norm1 = nn.LayerNorm(dim)\n",
        "        self.attn  = nn.MultiheadAttention(dim, heads, dropout=dropout, batch_first=batch_first)\n",
        "        self.drop1 = nn.Dropout(dropout)\n",
        "        self.norm2 = nn.LayerNorm(dim)\n",
        "        self.ffn   = FeedForward(dim, dropout=dropout)\n",
        "        self.drop2 = nn.Dropout(dropout)\n",
        "\n",
        "    def forward(self, x, attn_mask=None, key_padding_mask=None, need_weights=False):\n",
        "        qkv_norm = self.norm1(x)\n",
        "        ctx, attn_w = self.attn(\n",
        "            query=qkv_norm,\n",
        "            key=qkv_norm,\n",
        "            value=qkv_norm,\n",
        "            attn_mask=attn_mask,\n",
        "            key_padding_mask=key_padding_mask, need_weights=need_weights\n",
        "        )\n",
        "        x = x + self.drop1(ctx)\n",
        "        x = x + self.drop2(self.ffn(self.norm2(x))) # residual connection\n",
        "        return (x, attn_w) if need_weights else x"
      ]
    },
    {
      "cell_type": "code",
      "execution_count": null,
      "metadata": {
        "id": "ef0_Bd5aTtvf"
      },
      "outputs": [],
      "source": [
        "class CrossAttention(nn.Module):\n",
        "    def __init__(self, dim, heads=8, dropout=0.0, batch_first=True):\n",
        "        super().__init__()\n",
        "        self.norm_q = nn.LayerNorm(dim)\n",
        "        self.norm_kv = nn.LayerNorm(dim)\n",
        "        self.attn  = nn.MultiheadAttention(dim, heads, dropout=dropout, batch_first=batch_first)\n",
        "        self.drop1 = nn.Dropout(dropout)\n",
        "        self.norm2 = nn.LayerNorm(dim)\n",
        "        self.ffn   = FeedForward(dim, dropout=dropout)\n",
        "        self.drop2 = nn.Dropout(dropout)\n",
        "\n",
        "    def forward(self, q, kv, attn_mask=None, key_padding_mask=None, need_weights=False):\n",
        "        q_norm = self.norm_q(q)\n",
        "        kv_norm = self.norm_kv(kv)\n",
        "        ctx, attn_w = self.attn(\n",
        "            query=q_norm,\n",
        "            key=kv_norm,\n",
        "            value=kv_norm,\n",
        "            attn_mask=attn_mask,\n",
        "            key_padding_mask=key_padding_mask,\n",
        "            need_weights=need_weights\n",
        "        )\n",
        "        x = q + self.drop1(ctx)\n",
        "        x = x + self.drop2(self.ffn(self.norm2(x))) # residual connection\n",
        "        return (x, attn_w) if need_weights else x"
      ]
    },
    {
      "cell_type": "code",
      "execution_count": null,
      "metadata": {
        "id": "ZeSbEDs8Ttvf"
      },
      "outputs": [],
      "source": [
        "class Classifier(nn.Module):\n",
        "    def __init__(self, input_dim, output_dim, dropout=0.0):\n",
        "        super().__init__()\n",
        "        self.mlp = nn.Sequential(\n",
        "            nn.Linear(input_dim, 4096),\n",
        "            nn.ReLU(),\n",
        "            nn.Dropout(dropout),\n",
        "\n",
        "            nn.Linear(4096, 512),\n",
        "            nn.ReLU(),\n",
        "            nn.Dropout(dropout),\n",
        "\n",
        "            nn.Linear(512, 64),\n",
        "            nn.ReLU(),\n",
        "            nn.Dropout(dropout),\n",
        "\n",
        "            nn.Linear(64, output_dim)\n",
        "        )\n",
        "    def forward(self, x):\n",
        "        return self.mlp(x)\n"
      ]
    },
    {
      "cell_type": "markdown",
      "metadata": {
        "id": "np3YCJRnTtvf"
      },
      "source": [
        "### Encoder-Decoder Blocks"
      ]
    },
    {
      "cell_type": "code",
      "execution_count": null,
      "metadata": {
        "id": "IHo5dbg7Ttvf"
      },
      "outputs": [],
      "source": [
        "class SCEncoder(nn.Module):\n",
        "    def __init__(self, num_nodes, dim, layers=1, heads=8, dropout=0.1):\n",
        "        super().__init__()\n",
        "        self.input_proj = nn.Linear(num_nodes, dim)\n",
        "        self.blocks = nn.ModuleList([SelfAttention(dim, heads, dropout) for _ in range(layers)])\n",
        "        self.out_norm = nn.LayerNorm(dim)\n",
        "\n",
        "    def forward(self, sc):\n",
        "        x = self.input_proj(sc)\n",
        "        for blk in self.blocks:\n",
        "            x = blk(x)\n",
        "        return self.out_norm(x)"
      ]
    },
    {
      "cell_type": "code",
      "execution_count": null,
      "metadata": {
        "id": "vkqpXA-7Ttvf"
      },
      "outputs": [],
      "source": [
        "class FCDecoder(nn.Module):\n",
        "    def __init__(self, num_nodes, dim, layers=1, heads=8, dropout=0.1,\n",
        "                 predict_activation='tanh', mask_prob=0.1, seed=42):\n",
        "        super().__init__()\n",
        "        self.num_heads = heads\n",
        "        self.input_proj = nn.Linear(num_nodes, dim)\n",
        "        self.self_blocks = nn.ModuleList([SelfAttention(dim, heads, dropout) for _ in range(layers)])\n",
        "        self.cross_blocks = nn.ModuleList([CrossAttention(dim, heads, dropout)])\n",
        "        self.row_head = nn.Linear(dim, num_nodes)\n",
        "        self.predict_activation = predict_activation\n",
        "        self.mask_prob = mask_prob\n",
        "        self.seed = seed\n",
        "\n",
        "    def forward(self, fc, sc, target_fc=None):\n",
        "        B, N, _ = fc.shape\n",
        "\n",
        "        fc_mask = (torch.rand(B, N, N, device=fc.device) < self.mask_prob)\n",
        "        diag_mask = torch.eye(N, device=fc.device, dtype=torch.bool).unsqueeze(0)\n",
        "        fc_mask = fc_mask & (~diag_mask)\n",
        "\n",
        "        q = self.input_proj(fc)\n",
        "\n",
        "        attn_mask_float = fc_mask.float() * -1e9\n",
        "        attn_mask_float = attn_mask_float.repeat(self.num_heads, 1, 1)\n",
        "\n",
        "        for blk in self.self_blocks:\n",
        "            q = blk(q, attn_mask=attn_mask_float, need_weights=False)\n",
        "\n",
        "        for blk in self.cross_blocks:\n",
        "            q = blk(q, sc, need_weights=False)\n",
        "\n",
        "        rows = self.row_head(q)\n",
        "        if self.predict_activation == 'tanh':\n",
        "            rows = torch.tanh(rows)\n",
        "\n",
        "        fc_pred = 0.5 * (rows + rows.transpose(1, 2))\n",
        "        fc_pred = fc_pred.masked_fill(diag_mask, 0.0)\n",
        "\n",
        "        return fc_pred"
      ]
    },
    {
      "cell_type": "markdown",
      "metadata": {
        "id": "NmCso9MKTtvf"
      },
      "source": [
        "# Training"
      ]
    },
    {
      "cell_type": "markdown",
      "metadata": {
        "id": "KYxeDOjLTtvg"
      },
      "source": [
        "## Data"
      ]
    },
    {
      "cell_type": "code",
      "execution_count": null,
      "metadata": {
        "id": "C74-VRg-Ttvg"
      },
      "outputs": [],
      "source": [
        "ts_path = os.path.join(kelsingo_lemon_mri_path, \"ts\", \"ts\")\n",
        "sc_path = os.path.join(kelsingo_lemon_mri_path, \"SC\", \"SC\", \"prob\")\n",
        "fc_path = os.path.join(kelsingo_lemon_mri_path, \"FC\", \"FC\")\n",
        "metadata_path = os.path.join(kelsingo_lemon_mri_path, \"participants.tsv\")\n",
        "\n",
        "# kelsingo_brainnetome_to_yeo7_path = kagglehub.dataset_download('kelsingo/brainnetome-to-yeo7')\n",
        "# kelsingo_brainnetome_path = kagglehub.dataset_download('kelsingo/brainnetome')\n",
        "# kelsingo_lemon_mri_path = kagglehub.dataset_download('kelsingo/lemon-mri')"
      ]
    },
    {
      "cell_type": "code",
      "execution_count": null,
      "metadata": {
        "colab": {
          "base_uri": "https://localhost:8080/"
        },
        "id": "ChcK4bTpTtvg",
        "outputId": "dfe89173-f550-46b3-ea88-0fbe15c2367d"
      },
      "outputs": [
        {
          "output_type": "stream",
          "name": "stdout",
          "text": [
            "Remove row Index([67, 132, 152, 202], dtype='int64')\n",
            "Index(['ID', 'Gender_ 1=female_2=male', 'Age'], dtype='object')\n",
            "208\n"
          ]
        }
      ],
      "source": [
        "df = pd.read_csv(metadata_path, sep=\"\\t\", nrows=212)\n",
        "df.columns = df.columns.str.strip()\n",
        "remove_ids = [\"sub-032457\", \"sub-032435\", \"sub-032509\", \"sub-032370\"]\n",
        "remove_rows = df[df['ID'].isin(remove_ids)].index\n",
        "print(f\"Remove row {remove_rows}\")\n",
        "df = df.drop(remove_rows)\n",
        "print(df.columns)\n",
        "print(len(df))"
      ]
    },
    {
      "cell_type": "code",
      "execution_count": null,
      "metadata": {
        "colab": {
          "base_uri": "https://localhost:8080/",
          "height": 607
        },
        "id": "DZz_AE5dTtvg",
        "outputId": "b3140167-4237-40fe-8bc1-4855e1e3470d"
      },
      "outputs": [
        {
          "output_type": "display_data",
          "data": {
            "text/plain": [
              "<Figure size 1000x600 with 1 Axes>"
            ],
            "image/png": "[encoded data removed]"
          },
          "metadata": {}
        }
      ],
      "source": [
        "grouped = df.groupby(['Age', 'Gender_ 1=female_2=male']).size().unstack(fill_value=0)\n",
        "\n",
        "ages = grouped.index\n",
        "genders = grouped.columns\n",
        "x = np.arange(len(ages))\n",
        "bar_width = 0.35\n",
        "fig, ax = plt.subplots(figsize=(10, 6))\n",
        "\n",
        "for i, gender in enumerate(genders):\n",
        "    ax.bar(x + i * bar_width, grouped[gender], width=bar_width, label=gender)\n",
        "\n",
        "# Formatting\n",
        "ax.set_xlabel('Age')\n",
        "ax.set_ylabel('Number of Subjects')\n",
        "ax.set_title('Subject Count by Age and Gender')\n",
        "ax.set_xticks(x + bar_width / 2)\n",
        "ax.set_xticklabels(ages, rotation=45)\n",
        "ax.legend(title='Gender')\n",
        "plt.tight_layout()\n",
        "plt.show()"
      ]
    },
    {
      "cell_type": "code",
      "execution_count": null,
      "metadata": {
        "colab": {
          "base_uri": "https://localhost:8080/"
        },
        "id": "uLy8D8BTTtvg",
        "outputId": "f3701c31-6c63-42c3-ec68-32360ebbe166"
      },
      "outputs": [
        {
          "output_type": "stream",
          "name": "stdout",
          "text": [
            "(246, 652)\n"
          ]
        }
      ],
      "source": [
        "file_path = os.path.join(ts_path, \"sub-032302_ts.txt\")\n",
        "data = np.loadtxt(file_path)\n",
        "data = data.transpose()\n",
        "print(data.shape)"
      ]
    },
    {
      "cell_type": "code",
      "execution_count": null,
      "metadata": {
        "colab": {
          "base_uri": "https://localhost:8080/"
        },
        "id": "tjnRrT_ETtvg",
        "outputId": "a61b68a9-da2d-49cc-d0dc-e4b774ef0a62"
      },
      "outputs": [
        {
          "output_type": "stream",
          "name": "stdout",
          "text": [
            "['sub-032301', 'sub-032302', 'sub-032303', 'sub-032304', 'sub-032305', 'sub-032306', 'sub-032307', 'sub-032308', 'sub-032309', 'sub-032310', 'sub-032311', 'sub-032312', 'sub-032313', 'sub-032314', 'sub-032315', 'sub-032316', 'sub-032317', 'sub-032318', 'sub-032319', 'sub-032320', 'sub-032321', 'sub-032322', 'sub-032323', 'sub-032324', 'sub-032325', 'sub-032326', 'sub-032327', 'sub-032328', 'sub-032329', 'sub-032330', 'sub-032331', 'sub-032332', 'sub-032333', 'sub-032334', 'sub-032335', 'sub-032336', 'sub-032337', 'sub-032338', 'sub-032340', 'sub-032342', 'sub-032343', 'sub-032344', 'sub-032345', 'sub-032346', 'sub-032347', 'sub-032348', 'sub-032349', 'sub-032350', 'sub-032351', 'sub-032352', 'sub-032353', 'sub-032354', 'sub-032355', 'sub-032356', 'sub-032357', 'sub-032358', 'sub-032359', 'sub-032360', 'sub-032361', 'sub-032362', 'sub-032363', 'sub-032364', 'sub-032365', 'sub-032366', 'sub-032367', 'sub-032368', 'sub-032369', 'sub-032371', 'sub-032372', 'sub-032373', 'sub-032374', 'sub-032375', 'sub-032376', 'sub-032377', 'sub-032378', 'sub-032379', 'sub-032380', 'sub-032381', 'sub-032382', 'sub-032383', 'sub-032384', 'sub-032385', 'sub-032386', 'sub-032387', 'sub-032388', 'sub-032389', 'sub-032390', 'sub-032391', 'sub-032392', 'sub-032393', 'sub-032394', 'sub-032395', 'sub-032396', 'sub-032397', 'sub-032398', 'sub-032399', 'sub-032400', 'sub-032401', 'sub-032402', 'sub-032403', 'sub-032404', 'sub-032405', 'sub-032406', 'sub-032407', 'sub-032408', 'sub-032409', 'sub-032410', 'sub-032411', 'sub-032412', 'sub-032413', 'sub-032414', 'sub-032415', 'sub-032416', 'sub-032417', 'sub-032418', 'sub-032419', 'sub-032420', 'sub-032421', 'sub-032422', 'sub-032423', 'sub-032424', 'sub-032425', 'sub-032426', 'sub-032427', 'sub-032428', 'sub-032429', 'sub-032430', 'sub-032431', 'sub-032432', 'sub-032433', 'sub-032434', 'sub-032436', 'sub-032437', 'sub-032439', 'sub-032440', 'sub-032441', 'sub-032442', 'sub-032443', 'sub-032444', 'sub-032445', 'sub-032446', 'sub-032447', 'sub-032448', 'sub-032449', 'sub-032450', 'sub-032451', 'sub-032452', 'sub-032453', 'sub-032454', 'sub-032455', 'sub-032458', 'sub-032460', 'sub-032461', 'sub-032462', 'sub-032463', 'sub-032464', 'sub-032465', 'sub-032467', 'sub-032468', 'sub-032469', 'sub-032470', 'sub-032471', 'sub-032472', 'sub-032473', 'sub-032474', 'sub-032475', 'sub-032476', 'sub-032477', 'sub-032478', 'sub-032479', 'sub-032480', 'sub-032481', 'sub-032482', 'sub-032483', 'sub-032484', 'sub-032485', 'sub-032486', 'sub-032487', 'sub-032488', 'sub-032489', 'sub-032490', 'sub-032491', 'sub-032492', 'sub-032493', 'sub-032494', 'sub-032495', 'sub-032496', 'sub-032497', 'sub-032498', 'sub-032499', 'sub-032500', 'sub-032501', 'sub-032502', 'sub-032503', 'sub-032504', 'sub-032505', 'sub-032506', 'sub-032507', 'sub-032508', 'sub-032510', 'sub-032511', 'sub-032512', 'sub-032513', 'sub-032514', 'sub-032515', 'sub-032516', 'sub-032517', 'sub-032518']\n"
          ]
        }
      ],
      "source": [
        "def age_group_to_class(age_str):\n",
        "    if age_str == \"20-25\" or age_str == \"25-30\" or age_str == \"30-35\" or age_str == \"35-40\":\n",
        "        return 0\n",
        "    elif age_str == \"60-65\" or age_str == \"65-70\" or age_str == \"70-75\" or age_str == \"75-80\" or age_str == \"55-60\":\n",
        "        return 1\n",
        "    raise ValueError(f\"Unexpected age group: {age_str}\")\n",
        "\n",
        "id_to_label = {row[\"ID\"]: age_group_to_class(row[\"Age\"]) for _, row in df.iterrows()}\n",
        "missing_ids = set()\n",
        "y_data, ts_data, sc_data, fc_data = [], [], [], []\n",
        "\n",
        "subj_ids = df[\"ID\"].tolist()\n",
        "print(subj_ids)"
      ]
    },
    {
      "cell_type": "code",
      "execution_count": null,
      "metadata": {
        "colab": {
          "base_uri": "https://localhost:8080/"
        },
        "id": "5FImI0ZnTtvg",
        "outputId": "4ba86b39-8c29-4f5f-8797-20a279657718"
      },
      "outputs": [
        {
          "output_type": "stream",
          "name": "stdout",
          "text": [
            "208\n"
          ]
        }
      ],
      "source": [
        "print(len(subj_ids))"
      ]
    },
    {
      "cell_type": "code",
      "execution_count": null,
      "metadata": {
        "colab": {
          "base_uri": "https://localhost:8080/"
        },
        "id": "nYByKWzKTtvg",
        "outputId": "bddd0706-dd83-4db4-865a-74a90bcfc237"
      },
      "outputs": [
        {
          "output_type": "stream",
          "name": "stdout",
          "text": [
            "TS shape: torch.Size([208, 652, 246]), SC shape: torch.Size([208, 246, 246]), FC shape: torch.Size([208, 246, 246]), y shape: torch.Size([208])\n",
            "Class distribution: tensor([140,  68])\n"
          ]
        }
      ],
      "source": [
        "import torch\n",
        "\n",
        "for subj_id in subj_ids:\n",
        "\n",
        "    y_data.append(id_to_label[subj_id])\n",
        "    # time series\n",
        "    ts_fname = f\"{subj_id}_ts.txt\"\n",
        "    ts_fpath = os.path.join(ts_path, ts_fname)\n",
        "    if os.path.isfile(ts_fpath):\n",
        "        df = pd.read_csv(ts_fpath, sep='\\t', header=None)\n",
        "        ts_data.append(torch.tensor(df.values, dtype=torch.float32))\n",
        "    # SC\n",
        "    sc_fname = f\"{subj_id}_prob.csv\"\n",
        "    sc_fpath = os.path.join(sc_path, sc_fname)\n",
        "    if os.path.isfile(sc_fpath):\n",
        "        df = pd.read_csv(sc_fpath, header=None)\n",
        "        df = df.apply(pd.to_numeric, errors='coerce').fillna(0)\n",
        "        sc_tensor = torch.tensor(df.values, dtype=torch.float32)\n",
        "\n",
        "        # Min-max normalization per subject\n",
        "        sc_min = sc_tensor.min()\n",
        "        sc_max = sc_tensor.max()\n",
        "        if sc_max > sc_min:\n",
        "            sc_tensor = (sc_tensor - sc_min) / (sc_max - sc_min)\n",
        "        else:\n",
        "            sc_tensor = torch.zeros_like(sc_tensor)  # fallback if constant matrix\n",
        "\n",
        "        sc_data.append(sc_tensor)\n",
        "\n",
        "    # FC\n",
        "    fc_fname = f\"{subj_id}_FC.csv\"\n",
        "    fc_fpath = os.path.join(fc_path, fc_fname)\n",
        "    if os.path.isfile(fc_fpath):\n",
        "        df = pd.read_csv(fc_fpath, header=None)\n",
        "        df = df.apply(pd.to_numeric, errors='coerce').fillna(0)\n",
        "        fc_data.append(torch.tensor(df.values, dtype=torch.float32))\n",
        "\n",
        "TS = torch.stack(ts_data)\n",
        "SC = torch.stack(sc_data)\n",
        "FC = torch.stack(fc_data)\n",
        "y = torch.tensor(y_data, dtype=torch.long)\n",
        "print(f\"TS shape: {TS.shape}, SC shape: {SC.shape}, FC shape: {FC.shape}, y shape: {y.shape}\")\n",
        "print(f\"Class distribution: {torch.bincount(y)}\")"
      ]
    },
    {
      "cell_type": "code",
      "execution_count": null,
      "metadata": {
        "id": "muKIOK8eTtvh"
      },
      "outputs": [],
      "source": [
        "class BrainAgesDataset(Dataset):\n",
        "    def __init__(self, TS, SC, y):\n",
        "        self.TS = TS\n",
        "        self.SC = SC\n",
        "        self.y = y\n",
        "\n",
        "    def __len__(self):\n",
        "        return len(self.y)\n",
        "\n",
        "    def __getitem__(self, idx):\n",
        "        return self.TS[idx], self.SC[idx], self.y[idx]"
      ]
    },
    {
      "cell_type": "code",
      "execution_count": null,
      "metadata": {
        "id": "fAhG3TFGTtvh"
      },
      "outputs": [],
      "source": [
        "# from collections import Counter\n",
        "# from torch.utils.data import DataLoader, WeightedRandomSampler\n",
        "# from sklearn.model_selection import train_test_split\n",
        "# import torch\n",
        "\n",
        "# # --- Split dataset (original data only, no SMOTE) ---\n",
        "# indices = np.arange(len(y))\n",
        "# trainval_idx, test_idx, y_trainval, y_test = train_test_split(\n",
        "#     indices, y.numpy(), test_size=0.15, stratify=y.numpy(), random_state=42\n",
        "# )\n",
        "\n",
        "# train_idx, val_idx, y_train, y_val = train_test_split(\n",
        "#     trainval_idx, y_trainval, test_size=0.1765, stratify=y_trainval, random_state=42\n",
        "# )\n",
        "\n",
        "# # --- Build tensors for splits ---\n",
        "# train_TS = TS[train_idx]\n",
        "# train_SC = SC[train_idx]\n",
        "# train_y  = y[train_idx]\n",
        "\n",
        "# val_TS = TS[val_idx]\n",
        "# val_SC = SC[val_idx]\n",
        "# val_y  = y[val_idx]\n",
        "\n",
        "# test_TS = TS[test_idx]\n",
        "# test_SC = SC[test_idx]\n",
        "# test_y  = y[test_idx]\n",
        "\n",
        "# print(\"Train distribution:\", Counter(train_y.tolist()))\n",
        "# print(\"Val distribution:\", Counter(val_y.tolist()))\n",
        "# print(\"Test distribution:\", Counter(test_y.tolist()))\n",
        "\n",
        "# X_train = BrainAgesDataset(train_TS, train_SC, train_y)\n",
        "# X_val   = BrainAgesDataset(val_TS, val_SC, val_y)\n",
        "# X_test  = BrainAgesDataset(test_TS, test_SC, test_y)\n",
        "\n",
        "# class_sample_count = torch.tensor([(train_y == t).sum() for t in torch.unique(train_y)], dtype=torch.float)\n",
        "# weights = 1. / class_sample_count\n",
        "# samples_weight = torch.tensor([weights[t] for t in train_y], dtype=torch.float)\n",
        "# sampler = WeightedRandomSampler(samples_weight, num_samples=len(samples_weight), replacement=True)\n",
        "\n",
        "# batch_size = 16\n",
        "# train_loader = DataLoader(X_train, batch_size=batch_size, shuffle=True)  # use shuffle OR sampler\n",
        "# val_loader   = DataLoader(X_val, batch_size=batch_size, shuffle=False)\n",
        "# test_loader  = DataLoader(X_test, batch_size=batch_size, shuffle=False)\n",
        "\n",
        "# print(f\"Train size: {len(train_y)}, Val size: {len(val_y)}, Test size: {len(test_y)}\")\n",
        "# print(\"Train class distribution:\", torch.bincount(train_y))\n",
        "# print(\"Val class distribution:\", torch.bincount(val_y))\n",
        "# print(\"Test class distribution:\", torch.bincount(test_y))\n"
      ]
    },
    {
      "cell_type": "code",
      "execution_count": null,
      "metadata": {
        "colab": {
          "base_uri": "https://localhost:8080/"
        },
        "id": "U_CBkHcNTtvh",
        "outputId": "3a0547e5-0570-4df1-f024-b6db7885605f"
      },
      "outputs": [
        {
          "output_type": "stream",
          "name": "stdout",
          "text": [
            "Before SMOTE (train): Counter({np.int64(0): 97, np.int64(1): 47})\n",
            "After SMOTE (train): Counter({np.int64(0): 97, np.int64(1): 55})\n",
            "Train size: 152, Val size: 32, Test size: 32\n",
            "Train class distribution: tensor([97, 55])\n",
            "Val class distribution: tensor([21, 11])\n",
            "Test class distribution: tensor([22, 10])\n"
          ]
        }
      ],
      "source": [
        "from imblearn.over_sampling import SMOTE\n",
        "from collections import Counter\n",
        "import matplotlib.pyplot as plt\n",
        "from torch.utils.data import Dataset, DataLoader, WeightedRandomSampler\n",
        "from sklearn.model_selection import train_test_split\n",
        "import numpy as np\n",
        "import torch\n",
        "\n",
        "# --- Split first on original dataset (NO SMOTE yet) ---\n",
        "indices = np.arange(len(y))\n",
        "trainval_idx, test_idx, y_trainval_np, y_test_np = train_test_split(\n",
        "    indices, y.numpy(), test_size=0.15, stratify=y.numpy(), random_state=42\n",
        ")\n",
        "\n",
        "train_idx, val_idx, y_train_np, y_val_np = train_test_split(\n",
        "    trainval_idx, y_trainval_np, test_size=0.1765, stratify=y_trainval_np, random_state=42\n",
        ")\n",
        "\n",
        "# --- Prepare flattened features ---\n",
        "TS_flat = TS.reshape(TS.shape[0], -1).numpy()\n",
        "SC_flat = SC.reshape(SC.shape[0], -1).numpy()\n",
        "FC_flat = FC.reshape(FC.shape[0], -1).numpy()\n",
        "X = np.concatenate([TS_flat, SC_flat, FC_flat], axis=1)\n",
        "y_np = y.numpy()\n",
        "\n",
        "# --- Apply SMOTE ONLY on training set ---\n",
        "X_train = X[train_idx]\n",
        "y_train = y_np[train_idx]\n",
        "\n",
        "print(\"Before SMOTE (train):\", Counter(y_train))\n",
        "\n",
        "smote = SMOTE(random_state=42, k_neighbors=1, sampling_strategy={1:55})  # k=1 if few samples\n",
        "X_train_res, y_train_res = smote.fit_resample(X_train, y_train)\n",
        "\n",
        "print(\"After SMOTE (train):\", Counter(y_train_res))\n",
        "\n",
        "# --- Reshape back training set ---\n",
        "ts_size = TS_flat.shape[1]\n",
        "sc_size = SC_flat.shape[1]\n",
        "fc_size = FC_flat.shape[1]\n",
        "\n",
        "train_TS = torch.tensor(X_train_res[:, :ts_size]).reshape(-1, TS.shape[1], TS.shape[2])\n",
        "train_SC = torch.tensor(X_train_res[:, ts_size:ts_size+sc_size]).reshape(-1, SC.shape[1], SC.shape[2])\n",
        "train_y  = torch.tensor(y_train_res, dtype=torch.long)\n",
        "\n",
        "# --- Validation & test sets (untouched, no SMOTE) ---\n",
        "val_TS = TS[val_idx]\n",
        "val_SC = SC[val_idx]\n",
        "val_y  = torch.tensor(y_val_np, dtype=torch.long)\n",
        "\n",
        "test_TS = TS[test_idx]\n",
        "test_SC = SC[test_idx]\n",
        "test_y  = torch.tensor(y_test_np, dtype=torch.long)\n",
        "\n",
        "# --- Dataset wrappers ---\n",
        "X_train = BrainAgesDataset(train_TS, train_SC, train_y)\n",
        "X_val   = BrainAgesDataset(val_TS, val_SC, val_y)\n",
        "X_test  = BrainAgesDataset(test_TS, test_SC, test_y)\n",
        "\n",
        "# --- Weighted sampler for train ---\n",
        "class_sample_count = torch.tensor([(train_y == t).sum() for t in torch.unique(train_y)], dtype=torch.float)\n",
        "weights = 1. / class_sample_count\n",
        "samples_weight = torch.tensor([weights[t] for t in train_y], dtype=torch.float)\n",
        "sampler = WeightedRandomSampler(samples_weight, num_samples=len(samples_weight), replacement=True)\n",
        "\n",
        "batch_size = 32\n",
        "train_loader = DataLoader(X_train, batch_size=batch_size, shuffle=True)\n",
        "val_loader   = DataLoader(X_val, batch_size=batch_size, shuffle=False)\n",
        "test_loader  = DataLoader(X_test, batch_size=batch_size, shuffle=False)\n",
        "\n",
        "# --- Check distributions ---\n",
        "print(f\"Train size: {len(train_y)}, Val size: {len(val_y)}, Test size: {len(test_y)}\")\n",
        "print(\"Train class distribution:\", torch.bincount(train_y))\n",
        "print(\"Val class distribution:\", torch.bincount(val_y))\n",
        "print(\"Test class distribution:\", torch.bincount(test_y))\n"
      ]
    },
    {
      "cell_type": "markdown",
      "metadata": {
        "id": "c-pSIaA9Ttvh"
      },
      "source": [
        "## Pretraining"
      ]
    },
    {
      "cell_type": "code",
      "execution_count": null,
      "metadata": {
        "id": "WOGDTif9Ttvh"
      },
      "outputs": [],
      "source": [
        "embed_dim = 2048\n",
        "num_epochs = 50"
      ]
    },
    {
      "cell_type": "code",
      "execution_count": null,
      "metadata": {
        "id": "1JWjImPMTtvh"
      },
      "outputs": [],
      "source": [
        "device = torch.device(\"cuda\" if torch.cuda.is_available() else \"cpu\")\n",
        "mamba = MambaModule(input_dim=246)\n",
        "mamba.mb = mamba.mb.to(device)\n",
        "mamba = mamba.to(device)\n",
        "encoder = SCEncoder(num_nodes=246, dim=embed_dim).to(device)\n",
        "decoder = FCDecoder(num_nodes=246, dim=embed_dim).to(device)"
      ]
    },
    {
      "cell_type": "code",
      "execution_count": null,
      "metadata": {
        "colab": {
          "base_uri": "https://localhost:8080/"
        },
        "id": "T6_m0g19Ttvi",
        "outputId": "aa565e7e-f7f6-47a1-e1b8-78f105a31464"
      },
      "outputs": [
        {
          "output_type": "stream",
          "name": "stdout",
          "text": [
            "Epoch 1/50 | Train Loss: 0.1306 | Val Loss: 0.0656\n",
            "Epoch 2/50 | Train Loss: 0.0528 | Val Loss: 0.0324\n",
            "Epoch 3/50 | Train Loss: 0.0327 | Val Loss: 0.0223\n",
            "Epoch 4/50 | Train Loss: 0.0238 | Val Loss: 0.0178\n",
            "Epoch 5/50 | Train Loss: 0.0188 | Val Loss: 0.0143\n",
            "Epoch 6/50 | Train Loss: 0.0157 | Val Loss: 0.0123\n",
            "Epoch 7/50 | Train Loss: 0.0135 | Val Loss: 0.0109\n",
            "Epoch 8/50 | Train Loss: 0.0121 | Val Loss: 0.0098\n",
            "Epoch 9/50 | Train Loss: 0.0111 | Val Loss: 0.0092\n",
            "Epoch 10/50 | Train Loss: 0.0103 | Val Loss: 0.0086\n",
            "Epoch 11/50 | Train Loss: 0.0097 | Val Loss: 0.0081\n",
            "Epoch 12/50 | Train Loss: 0.0092 | Val Loss: 0.0077\n",
            "Epoch 13/50 | Train Loss: 0.0088 | Val Loss: 0.0074\n",
            "Epoch 14/50 | Train Loss: 0.0085 | Val Loss: 0.0072\n",
            "Epoch 15/50 | Train Loss: 0.0083 | Val Loss: 0.0069\n",
            "Epoch 16/50 | Train Loss: 0.0080 | Val Loss: 0.0068\n",
            "Epoch 17/50 | Train Loss: 0.0078 | Val Loss: 0.0066\n",
            "Epoch 18/50 | Train Loss: 0.0077 | Val Loss: 0.0065\n",
            "Epoch 19/50 | Train Loss: 0.0075 | Val Loss: 0.0063\n",
            "Epoch 20/50 | Train Loss: 0.0074 | Val Loss: 0.0062\n",
            "Epoch 21/50 | Train Loss: 0.0072 | Val Loss: 0.0061\n",
            "Epoch 22/50 | Train Loss: 0.0071 | Val Loss: 0.0060\n",
            "Epoch 23/50 | Train Loss: 0.0070 | Val Loss: 0.0060\n",
            "Epoch 24/50 | Train Loss: 0.0069 | Val Loss: 0.0059\n",
            "Epoch 25/50 | Train Loss: 0.0068 | Val Loss: 0.0058\n",
            "Epoch 26/50 | Train Loss: 0.0068 | Val Loss: 0.0058\n",
            "Epoch 27/50 | Train Loss: 0.0067 | Val Loss: 0.0057\n",
            "Epoch 28/50 | Train Loss: 0.0066 | Val Loss: 0.0056\n",
            "Epoch 29/50 | Train Loss: 0.0066 | Val Loss: 0.0056\n",
            "Epoch 30/50 | Train Loss: 0.0065 | Val Loss: 0.0056\n",
            "Epoch 31/50 | Train Loss: 0.0064 | Val Loss: 0.0055\n",
            "Epoch 32/50 | Train Loss: 0.0064 | Val Loss: 0.0055\n",
            "Epoch 33/50 | Train Loss: 0.0063 | Val Loss: 0.0054\n",
            "Epoch 34/50 | Train Loss: 0.0063 | Val Loss: 0.0054\n",
            "Epoch 35/50 | Train Loss: 0.0062 | Val Loss: 0.0054\n",
            "Epoch 36/50 | Train Loss: 0.0062 | Val Loss: 0.0053\n",
            "Epoch 37/50 | Train Loss: 0.0061 | Val Loss: 0.0053\n",
            "Epoch 38/50 | Train Loss: 0.0061 | Val Loss: 0.0053\n",
            "Epoch 39/50 | Train Loss: 0.0061 | Val Loss: 0.0052\n",
            "Epoch 40/50 | Train Loss: 0.0060 | Val Loss: 0.0052\n",
            "Epoch 41/50 | Train Loss: 0.0060 | Val Loss: 0.0052\n",
            "Epoch 42/50 | Train Loss: 0.0060 | Val Loss: 0.0052\n",
            "Epoch 43/50 | Train Loss: 0.0059 | Val Loss: 0.0052\n",
            "Epoch 44/50 | Train Loss: 0.0059 | Val Loss: 0.0051\n",
            "Epoch 45/50 | Train Loss: 0.0059 | Val Loss: 0.0051\n",
            "Epoch 46/50 | Train Loss: 0.0058 | Val Loss: 0.0051\n",
            "Epoch 47/50 | Train Loss: 0.0058 | Val Loss: 0.0051\n",
            "Epoch 48/50 | Train Loss: 0.0058 | Val Loss: 0.0051\n",
            "Epoch 49/50 | Train Loss: 0.0058 | Val Loss: 0.0050\n",
            "Epoch 50/50 | Train Loss: 0.0057 | Val Loss: 0.0050\n"
          ]
        }
      ],
      "source": [
        "criterion = nn.MSELoss()\n",
        "optimizer = torch.optim.Adam(\n",
        "    list(mamba.parameters()) +\n",
        "    list(encoder.parameters()) +\n",
        "    list(decoder.parameters()), lr=1e-4\n",
        ")\n",
        "\n",
        "train_losses = []\n",
        "val_losses = []\n",
        "\n",
        "for epoch in range(num_epochs):\n",
        "    mamba.train()\n",
        "    encoder.train()\n",
        "    decoder.train()\n",
        "\n",
        "    train_epoch_loss = 0.0\n",
        "\n",
        "    for TS_batch, SC_batch, _ in train_loader:\n",
        "        TS_batch, SC_batch = TS_batch.to(device), SC_batch.to(device)\n",
        "\n",
        "        optimizer.zero_grad()\n",
        "\n",
        "        ts_repr = mamba(TS_batch)\n",
        "        SC_batch = encoder(SC_batch)\n",
        "        FC_batch_list = [FC_compute(ts.detach().cpu().numpy()) for ts in ts_repr]\n",
        "        FC_batch = torch.tensor(np.array(FC_batch_list), dtype=torch.float32, device=device)\n",
        "\n",
        "        sc_fc_fusion = decoder(FC_batch, SC_batch)\n",
        "\n",
        "\n",
        "        loss = criterion(sc_fc_fusion, FC_batch)\n",
        "        loss.backward()\n",
        "        optimizer.step()\n",
        "\n",
        "        train_epoch_loss += loss.item()\n",
        "\n",
        "    mamba.eval()\n",
        "    encoder.eval()\n",
        "    decoder.eval()\n",
        "\n",
        "    val_epoch_loss = 0.0\n",
        "\n",
        "    with torch.no_grad():\n",
        "        for TS_batch, SC_batch, _ in val_loader:\n",
        "            TS_batch, SC_batch = TS_batch.to(device), SC_batch.to(device)\n",
        "\n",
        "            ts_repr = mamba(TS_batch)\n",
        "            SC_batch = encoder(SC_batch)\n",
        "            FC_batch_list = [FC_compute(ts.detach().cpu().numpy()) for ts in ts_repr]\n",
        "            FC_batch = torch.tensor(np.array(FC_batch_list), dtype=torch.float32, device=device)\n",
        "\n",
        "            sc_fc_fusion = decoder(FC_batch, SC_batch)\n",
        "\n",
        "            loss = criterion(sc_fc_fusion, FC_batch)\n",
        "            val_epoch_loss += loss.item()\n",
        "\n",
        "    train_losses.append(train_epoch_loss / len(train_loader))\n",
        "    val_losses.append(val_epoch_loss / len(val_loader))\n",
        "\n",
        "    print(f\"Epoch {epoch+1}/{num_epochs} | \"\n",
        "          f\"Train Loss: {train_losses[-1]:.4f} | Val Loss: {val_losses[-1]:.4f}\")"
      ]
    },
    {
      "cell_type": "code",
      "execution_count": null,
      "metadata": {
        "id": "LJwGiP2ATtvi",
        "colab": {
          "base_uri": "https://localhost:8080/"
        },
        "outputId": "f9336149-95a8-4d8d-956d-ad59c0c107a0"
      },
      "outputs": [
        {
          "output_type": "display_data",
          "data": {
            "text/plain": [
              "<Figure size 800x500 with 1 Axes>"
            ],
            "image/png": "[encoded data removed]"
          },
          "metadata": {}
        }
      ],
      "source": [
        "plt.figure(figsize=(8,5))\n",
        "plt.plot(range(1, num_epochs+1), train_losses, label=\"Train Loss\")\n",
        "plt.plot(range(1, num_epochs+1), val_losses, label=\"Validation Loss\")\n",
        "plt.xlabel(\"Epoch\")\n",
        "plt.ylabel(\"Loss\")\n",
        "plt.title(\"Training vs Validation Loss\")\n",
        "plt.legend()\n",
        "plt.grid(True)\n",
        "plt.show()"
      ]
    },
    {
      "cell_type": "code",
      "execution_count": null,
      "metadata": {
        "id": "CHcruSuDTtvi"
      },
      "outputs": [],
      "source": [
        "mamba.eval()\n",
        "encoder.eval()\n",
        "all_fc_train = []\n",
        "all_sc_train = []\n",
        "with torch.no_grad():\n",
        "    for TS_batch, SC_batch, _ in train_loader:\n",
        "        sc_repr = encoder(SC_batch.to(device))\n",
        "        all_sc_train.append(sc_repr.cpu())\n",
        "        ts_repr = mamba(TS_batch.to(device))\n",
        "        for ts in ts_repr:\n",
        "            ts_np = ts.cpu().numpy()\n",
        "            fc = FC_compute(ts_np)\n",
        "            all_fc_train.append(torch.tensor(fc))\n",
        "SC_train_embeddings = torch.cat(all_sc_train, dim=0)\n",
        "FC_train_embeddings = torch.stack(all_fc_train, dim=0)\n",
        "\n",
        "all_fc_val = []\n",
        "all_sc_val = []\n",
        "with torch.no_grad():\n",
        "    for TS_batch, SC_batch, _ in val_loader:\n",
        "        sc_repr = encoder(SC_batch.to(device))\n",
        "        all_sc_val.append(sc_repr.cpu())\n",
        "        ts_repr = mamba(TS_batch.to(device))\n",
        "        for ts in ts_repr:\n",
        "            ts_np = ts.cpu().numpy()\n",
        "            fc = FC_compute(ts_np)\n",
        "            all_fc_val.append(torch.tensor(fc))\n",
        "FC_val_embeddings = torch.stack(all_fc_val, dim=0)\n",
        "SC_val_embeddings = torch.cat(all_sc_val, dim=0)"
      ]
    },
    {
      "cell_type": "code",
      "source": [
        "# After embedding extraction, explicitly pair them\n",
        "train_embeddings_dataset = TensorDataset(\n",
        "    FC_train_embeddings.to(device),\n",
        "    SC_train_embeddings.to(device),\n",
        "    train_y.to(device)\n",
        ")\n",
        "train_embeddings_loader = DataLoader(train_embeddings_dataset, batch_size=batch_size, shuffle=True)\n"
      ],
      "metadata": {
        "id": "M_9m58MjfoK4"
      },
      "execution_count": null,
      "outputs": []
    },
    {
      "cell_type": "markdown",
      "metadata": {
        "id": "YP8UafRWTtvi"
      },
      "source": [
        "## Classification"
      ]
    },
    {
      "cell_type": "code",
      "execution_count": null,
      "metadata": {
        "id": "2zBxrPWwTtvj"
      },
      "outputs": [],
      "source": [
        "class FCEncoder_Finetune(nn.Module):\n",
        "    def __init__(self, num_nodes, dim, layers=1, heads=8, dropout=0.1):\n",
        "        super().__init__()\n",
        "        self.input_proj = nn.Linear(num_nodes, dim)\n",
        "        self.self_blocks  = nn.ModuleList([SelfAttention(dim, heads, dropout) for _ in range(layers)])\n",
        "        self.cross_blocks = nn.ModuleList([CrossAttention(dim, heads, dropout)])\n",
        "        self.row_head = nn.Linear(dim, 246)\n",
        "        self.layer_norm = nn.LayerNorm(246)\n",
        "\n",
        "    def forward(self, fc, sc):\n",
        "        x = self.input_proj(fc)\n",
        "        for blk in self.self_blocks:\n",
        "            x = blk(x)\n",
        "        for blk in self.cross_blocks:\n",
        "            x = blk(x, sc)\n",
        "\n",
        "        rows = self.row_head(x)\n",
        "        rows = 0.5 * (rows + rows.transpose(1, 2))\n",
        "\n",
        "        fc_out = fc + rows\n",
        "        fc_out = self.layer_norm(fc_out)\n",
        "        return fc_out"
      ]
    },
    {
      "cell_type": "code",
      "execution_count": null,
      "metadata": {
        "id": "xq9KB9YCTtvj"
      },
      "outputs": [],
      "source": [
        "import torch\n",
        "import torch.nn as nn\n",
        "import torch.nn.functional as F\n",
        "\n",
        "class LinearSVM(nn.Module):\n",
        "    def __init__(self, input_dim, num_classes, num_features=246):\n",
        "        super().__init__()\n",
        "        self.omega = nn.Parameter(torch.randn(input_dim, num_features), requires_grad=False)\n",
        "        self.b = nn.Parameter(2 * torch.pi * torch.rand(num_features), requires_grad=False)\n",
        "        self.fc = nn.Linear(num_features, num_classes)\n",
        "\n",
        "    def forward(self, x):\n",
        "        z = torch.cos(x @ self.omega + self.b) * (2.0 / self.omega.shape[1])**0.5\n",
        "        return self.fc(z)"
      ]
    },
    {
      "cell_type": "code",
      "execution_count": null,
      "metadata": {
        "id": "Q7T-f09vTtvj"
      },
      "outputs": [],
      "source": [
        "def svm_qp_loss(outputs, targets, model, C=1.0, margin=1.0, class_weights=None):\n",
        "    \"\"\"\n",
        "    SVM primal loss = 0.5 * ||w||^2 + C * hinge_loss\n",
        "    outputs: raw model scores [B, 2]\n",
        "    targets: ground truth labels [B] in {0,1}\n",
        "    model: the classifier (to extract w)\n",
        "    \"\"\"\n",
        "    scores = outputs[:, 1] - outputs[:, 0]\n",
        "    y = 2 * targets.float() - 1\n",
        "\n",
        "    hinge = torch.clamp(margin - scores * y, min=0)\n",
        "\n",
        "    if class_weights is not None:\n",
        "        sample_weights = class_weights[targets]\n",
        "        hinge_loss = (hinge * sample_weights).mean()\n",
        "    else:\n",
        "        hinge_loss = hinge.mean()\n",
        "\n",
        "    w = model.svm_head.fc.weight  # shape [2, D]\n",
        "    w_diff = w[1] - w[0]\n",
        "    reg_term = 0.5 * torch.norm(w_diff, p=2) ** 2\n",
        "\n",
        "    # --- total loss ---\n",
        "    loss = reg_term + C * hinge_loss\n",
        "    return loss"
      ]
    },
    {
      "cell_type": "code",
      "execution_count": null,
      "metadata": {
        "id": "r6bZsbiVTtvj"
      },
      "outputs": [],
      "source": [
        "class FC_SC_Classifier(nn.Module):\n",
        "    def __init__(self, num_nodes, dim, proj_dim=246, output_dim=2, layers=1, heads=8, dropout=0.1):\n",
        "        super().__init__()\n",
        "        self.fc_encoder = FCEncoder_Finetune(num_nodes, dim, layers, heads, dropout)\n",
        "        self.row_weights = nn.Parameter(torch.ones(num_nodes) / num_nodes)\n",
        "        self.svm_head = LinearSVM(proj_dim, output_dim)\n",
        "\n",
        "    def forward(self, fc, sc):\n",
        "        x = self.fc_encoder(fc, sc)\n",
        "        x = F.layer_norm(x, x.shape[1:])\n",
        "        row_logits = self.svm_head(x)\n",
        "        weights = F.softmax(self.row_weights, dim=0)   # [N]\n",
        "        logits = torch.einsum(\"bnc,n->bc\", row_logits, weights)\n",
        "        return logits"
      ]
    },
    {
      "cell_type": "code",
      "execution_count": null,
      "metadata": {
        "colab": {
          "base_uri": "https://localhost:8080/"
        },
        "id": "Bi8h028hTtvj",
        "outputId": "0bd564b0-b052-47e0-f87b-ce5de09dbdfc"
      },
      "outputs": [
        {
          "output_type": "stream",
          "name": "stdout",
          "text": [
            "Class distribution: Counter({np.int64(0): 97, np.int64(1): 55})\n",
            "Class weights: {np.int64(0): 0.7835051546391752, np.int64(1): 1.3818181818181818}\n",
            "Weights tensor: tensor([0.7835, 1.3818], device='cuda:0')\n"
          ]
        }
      ],
      "source": [
        "_train_y = train_y.numpy()\n",
        "counter = Counter(_train_y)\n",
        "print(\"Class distribution:\", counter)\n",
        "N = len(_train_y)\n",
        "K = len(counter)\n",
        "class_weights = {cls: N / (count * K) for cls, count in counter.items()}\n",
        "print(\"Class weights:\", class_weights)\n",
        "weights_array = np.array([class_weights[0], class_weights[1]])\n",
        "class_weights_tensor = torch.tensor(weights_array, dtype=torch.float32).to(device)\n",
        "print(\"Weights tensor:\", class_weights_tensor)"
      ]
    },
    {
      "cell_type": "code",
      "execution_count": null,
      "metadata": {
        "id": "-JFqu67DTtvj",
        "colab": {
          "base_uri": "https://localhost:8080/"
        },
        "outputId": "73671b82-89f7-4b7a-bcc3-b25487524f1c"
      },
      "outputs": [
        {
          "output_type": "stream",
          "name": "stdout",
          "text": [
            "Epoch 1/100 | Train Loss: 2.2884 | Val Loss: 2.2269 | Val Acc: 0.5625\n",
            "Epoch 2/100 | Train Loss: 2.2047 | Val Loss: 2.1553 | Val Acc: 0.6562\n",
            "Epoch 3/100 | Train Loss: 2.1464 | Val Loss: 2.0918 | Val Acc: 0.6562\n",
            "Epoch 4/100 | Train Loss: 2.1025 | Val Loss: 2.0758 | Val Acc: 0.6562\n",
            "Epoch 5/100 | Train Loss: 2.0673 | Val Loss: 2.0466 | Val Acc: 0.6562\n",
            "Epoch 6/100 | Train Loss: 2.0480 | Val Loss: 1.9961 | Val Acc: 0.6562\n",
            "Epoch 7/100 | Train Loss: 2.0332 | Val Loss: 2.0015 | Val Acc: 0.6562\n",
            "Epoch 8/100 | Train Loss: 2.0230 | Val Loss: 2.0003 | Val Acc: 0.6562\n",
            "Epoch 9/100 | Train Loss: 2.0151 | Val Loss: 2.0008 | Val Acc: 0.6562\n",
            "Epoch 10/100 | Train Loss: 2.0115 | Val Loss: 1.9909 | Val Acc: 0.6562\n",
            "Epoch 11/100 | Train Loss: 2.0070 | Val Loss: 1.9888 | Val Acc: 0.6562\n",
            "Epoch 12/100 | Train Loss: 2.0041 | Val Loss: 1.9866 | Val Acc: 0.6562\n",
            "Epoch 13/100 | Train Loss: 2.0035 | Val Loss: 1.9905 | Val Acc: 0.6562\n",
            "Epoch 14/100 | Train Loss: 2.0010 | Val Loss: 1.9843 | Val Acc: 0.6562\n",
            "Epoch 15/100 | Train Loss: 2.0009 | Val Loss: 1.9801 | Val Acc: 0.6562\n",
            "Epoch 16/100 | Train Loss: 2.0003 | Val Loss: 1.9802 | Val Acc: 0.6562\n",
            "Epoch 17/100 | Train Loss: 2.0001 | Val Loss: 1.9809 | Val Acc: 0.6562\n",
            "Epoch 18/100 | Train Loss: 1.9998 | Val Loss: 1.9818 | Val Acc: 0.6562\n",
            "Epoch 19/100 | Train Loss: 1.9997 | Val Loss: 1.9850 | Val Acc: 0.6562\n",
            "Epoch 20/100 | Train Loss: 1.9991 | Val Loss: 1.9870 | Val Acc: 0.6562\n",
            "Epoch 21/100 | Train Loss: 1.9991 | Val Loss: 1.9866 | Val Acc: 0.6562\n",
            "Epoch 22/100 | Train Loss: 2.0003 | Val Loss: 1.9934 | Val Acc: 0.6562\n",
            "Epoch 23/100 | Train Loss: 1.9980 | Val Loss: 1.9916 | Val Acc: 0.6562\n",
            "Epoch 24/100 | Train Loss: 1.9971 | Val Loss: 1.9951 | Val Acc: 0.6250\n",
            "Epoch 25/100 | Train Loss: 1.9953 | Val Loss: 2.0016 | Val Acc: 0.5312\n",
            "Early stopping at epoch 25\n"
          ]
        }
      ],
      "source": [
        "device = \"cuda\" if torch.cuda.is_available() else \"cpu\"\n",
        "model = FC_SC_Classifier(num_nodes=246, dim=2048, output_dim=2).to(device)\n",
        "# criterion = nn.CrossEntropyLoss(weight=class_weights_tensor)\n",
        "optimizer = torch.optim.Adam(model.parameters(), lr=1e-3)\n",
        "num_epochs = 100\n",
        "train_losses = []\n",
        "val_losses = []\n",
        "patience = 10              # stop if no improvement for 5 epochs\n",
        "best_val_loss = float(\"inf\")\n",
        "best_model_state = None\n",
        "patience_counter = 0\n",
        "\n",
        "for epoch in range(num_epochs):\n",
        "    model.train()\n",
        "    epoch_loss = 0.0\n",
        "\n",
        "    for fc_batch, sc_batch, labels_batch in train_embeddings_loader:\n",
        "        # fc_batch = FC_train_embeddings[i:i+batch_size].to(device)\n",
        "        # sc_batch = SC_train_embeddings[i:i+batch_size].to(device)\n",
        "        # labels_batch = train_y[i:i+batch_size].long().to(device)\n",
        "\n",
        "        optimizer.zero_grad()\n",
        "        outputs = model(fc_batch, sc_batch)\n",
        "        scores = outputs[:, 1] - outputs[:, 0]\n",
        "        loss = svm_qp_loss(outputs, labels_batch, model, C=2.0, class_weights=class_weights_tensor)\n",
        "        loss.backward()\n",
        "        optimizer.step()\n",
        "\n",
        "        epoch_loss += loss.item() * fc_batch.size(0)\n",
        "\n",
        "    avg_train_loss = epoch_loss / FC_train_embeddings.size(0)\n",
        "    train_losses.append(avg_train_loss)\n",
        "\n",
        "    # --- Validation loop ---\n",
        "    model.eval()\n",
        "    val_loss = 0.0\n",
        "    correct = 0\n",
        "    total = 0\n",
        "\n",
        "    with torch.no_grad():\n",
        "        for i in range(0, FC_val_embeddings.size(0), batch_size):\n",
        "            fc_batch = FC_val_embeddings[i:i+batch_size].to(device)\n",
        "            sc_batch = SC_val_embeddings[i:i+batch_size].to(device)\n",
        "            labels_batch = val_y[i:i+batch_size].long().to(device)\n",
        "\n",
        "            outputs = model(fc_batch, sc_batch)\n",
        "            scores = outputs[:, 1] - outputs[:, 0]\n",
        "            loss = svm_qp_loss(outputs, labels_batch, model, C=2.0)\n",
        "            val_loss += loss.item() * fc_batch.size(0)\n",
        "\n",
        "            preds = outputs.argmax(dim=1)\n",
        "            correct += (preds == labels_batch).sum().item()\n",
        "            total += labels_batch.size(0)\n",
        "\n",
        "    avg_val_loss = val_loss / FC_val_embeddings.size(0)\n",
        "    val_losses.append(avg_val_loss)\n",
        "    val_acc = correct / total\n",
        "\n",
        "    print(f\"Epoch {epoch+1}/{num_epochs} | \"\n",
        "          f\"Train Loss: {avg_train_loss:.4f} | \"\n",
        "          f\"Val Loss: {avg_val_loss:.4f} | \"\n",
        "          f\"Val Acc: {val_acc:.4f}\")\n",
        "\n",
        "    if avg_val_loss < best_val_loss:\n",
        "        best_val_loss = avg_val_loss\n",
        "        best_model_state = model.state_dict()  # save best weights\n",
        "        patience_counter = 0\n",
        "    else:\n",
        "        patience_counter += 1\n",
        "        if patience_counter >= patience:\n",
        "            print(f\"Early stopping at epoch {epoch+1}\")\n",
        "            break\n",
        "\n",
        "# Load best model (optional)\n",
        "if best_model_state is not None:\n",
        "    model.load_state_dict(best_model_state)"
      ]
    },
    {
      "cell_type": "code",
      "execution_count": null,
      "metadata": {
        "id": "GvsJw0eCTtvj",
        "colab": {
          "base_uri": "https://localhost:8080/",
          "height": 487
        },
        "outputId": "3a87eff8-1f34-4f96-92ab-36b67e9061be"
      },
      "outputs": [
        {
          "output_type": "display_data",
          "data": {
            "text/plain": [
              "<Figure size 800x500 with 1 Axes>"
            ],
            "image/png": "[encoded data removed]"
          },
          "metadata": {}
        }
      ],
      "source": [
        "epochs_ran = len(train_losses)\n",
        "\n",
        "plt.figure(figsize=(8,5))\n",
        "plt.plot(range(1, epochs_ran+1), train_losses, label=\"Train Loss\")\n",
        "plt.plot(range(1, epochs_ran+1), val_losses, label=\"Val Loss\")\n",
        "plt.xlabel(\"Epoch\")\n",
        "plt.ylabel(\"Loss\")\n",
        "plt.title(\"Training and Validation Loss\")\n",
        "plt.legend()\n",
        "plt.grid(True)\n",
        "plt.show()"
      ]
    },
    {
      "cell_type": "markdown",
      "metadata": {
        "id": "nCxjgpPETtvk"
      },
      "source": [
        "## Testing"
      ]
    },
    {
      "cell_type": "code",
      "execution_count": null,
      "metadata": {
        "id": "QuNnytLQTtvk"
      },
      "outputs": [],
      "source": [
        "mamba.eval()\n",
        "encoder.eval()\n",
        "all_fc_test = []\n",
        "all_sc_test = []\n",
        "with torch.no_grad():\n",
        "    for TS_batch, SC_batch, _ in test_loader:\n",
        "        sc_repr = encoder(SC_batch.to(device))\n",
        "        all_sc_test.append(sc_repr.cpu())\n",
        "        ts_repr = mamba(TS_batch.to(device))\n",
        "        for ts in ts_repr:\n",
        "            ts_np = ts.cpu().numpy()\n",
        "            fc = FC_compute(ts_np)\n",
        "            all_fc_test.append(torch.tensor(fc))\n",
        "SC_test_embeddings = torch.cat(all_sc_test, dim=0)\n",
        "FC_test_embeddings = torch.stack(all_fc_test, dim=0)"
      ]
    },
    {
      "cell_type": "code",
      "execution_count": null,
      "metadata": {
        "id": "i09YDXBDTtvk",
        "colab": {
          "base_uri": "https://localhost:8080/"
        },
        "outputId": "17db6464-35ca-46b3-c77f-ef66216834f8"
      },
      "outputs": [
        {
          "output_type": "stream",
          "name": "stdout",
          "text": [
            "Test Accuracy: 0.5938\n",
            "Confusion Matrix:\n",
            "[[17  5]\n",
            " [ 8  2]]\n",
            "Classification Report:\n",
            "              precision    recall  f1-score   support\n",
            "\n",
            "           0       0.68      0.77      0.72        22\n",
            "           1       0.29      0.20      0.24        10\n",
            "\n",
            "    accuracy                           0.59        32\n",
            "   macro avg       0.48      0.49      0.48        32\n",
            "weighted avg       0.56      0.59      0.57        32\n",
            "\n"
          ]
        }
      ],
      "source": [
        "from sklearn.metrics import confusion_matrix, classification_report\n",
        "\n",
        "device = \"cuda\" if torch.cuda.is_available() else \"cpu\"\n",
        "model.eval()\n",
        "\n",
        "all_preds = []\n",
        "all_true = []\n",
        "\n",
        "with torch.no_grad():\n",
        "    for i in range(0, FC_test_embeddings.size(0), batch_size):\n",
        "        fc_batch = FC_test_embeddings[i:i+batch_size].to(device)\n",
        "        sc_batch = SC_test_embeddings[i:i+batch_size].to(device)\n",
        "        labels_batch = test_y[i:i+batch_size].long().to(device)  # make sure labels are long\n",
        "\n",
        "        outputs = model(fc_batch, sc_batch)\n",
        "        preds = outputs.argmax(dim=1)\n",
        "\n",
        "        all_preds.append(preds.cpu())\n",
        "        all_true.append(labels_batch.cpu())\n",
        "\n",
        "all_preds = torch.cat(all_preds)\n",
        "all_true = torch.cat(all_true)\n",
        "\n",
        "test_acc = (all_preds == all_true).sum().item() / all_true.size(0)\n",
        "print(f\"Test Accuracy: {test_acc:.4f}\")\n",
        "\n",
        "cm = confusion_matrix(all_true.numpy(), all_preds.numpy())\n",
        "print(\"Confusion Matrix:\")\n",
        "print(cm)\n",
        "\n",
        "report = classification_report(all_true.numpy(), all_preds.numpy())\n",
        "print(\"Classification Report:\")\n",
        "print(report)"
      ]
    },
    {
      "cell_type": "code",
      "execution_count": null,
      "metadata": {
        "id": "SzS4HX3fTtvk"
      },
      "outputs": [],
      "source": [
        "def get_fc_outs(encoder_finetune, FC_embeddings, SC_embeddings, device, batch_size=32):\n",
        "    encoder_finetune.eval()\n",
        "    all_fc_outs = []\n",
        "\n",
        "    with torch.no_grad():\n",
        "        for i in range(0, FC_embeddings.size(0), batch_size):\n",
        "            fc_batch = FC_embeddings[i:i+batch_size].to(device)   # [B, N, N]\n",
        "            sc_batch = SC_embeddings[i:i+batch_size].to(device)   # [B, N, D]\n",
        "\n",
        "            fc_out_batch = encoder_finetune(fc_batch, sc_batch)   # [B, N, N]\n",
        "            all_fc_outs.append(fc_out_batch.cpu())\n",
        "\n",
        "    return torch.cat(all_fc_outs, dim=0)   # [num_subjects, N, N]"
      ]
    },
    {
      "cell_type": "markdown",
      "metadata": {
        "id": "5OFczUthTtvk"
      },
      "source": [
        "# Further Analysis"
      ]
    },
    {
      "cell_type": "markdown",
      "metadata": {
        "id": "jllcWa2yTtvk"
      },
      "source": [
        "## Community Detection"
      ]
    },
    {
      "cell_type": "code",
      "execution_count": null,
      "metadata": {
        "id": "ukyHVB2ZTtvk"
      },
      "outputs": [],
      "source": [
        "brainnetome_to_yeo7 = \"/kaggle/input/brainnetome-to-yeo7/brainnetome_to_yeo7.csv\""
      ]
    },
    {
      "cell_type": "code",
      "execution_count": null,
      "metadata": {
        "id": "ivlUj1T-Ttvk"
      },
      "outputs": [],
      "source": [
        "y_all = np.concatenate([y_train_np, y_val_np, y_test_np], axis=0)"
      ]
    },
    {
      "cell_type": "code",
      "execution_count": null,
      "metadata": {
        "id": "c-ME4gOTTtvk",
        "colab": {
          "base_uri": "https://localhost:8080/",
          "height": 299
        },
        "outputId": "851ba5ec-55d4-4fe2-e37b-4e378e5aa14b"
      },
      "outputs": [
        {
          "output_type": "error",
          "ename": "FileNotFoundError",
          "evalue": "[Errno 2] No such file or directory: '/kaggle/input/brainnetome-to-yeo7/brainnetome_to_yeo7.csv'",
          "traceback": [
            "\u001b[0;31m---------------------------------------------------------------------------\u001b[0m",
            "\u001b[0;31mFileNotFoundError\u001b[0m                         Traceback (most recent call last)",
            "\u001b[0;32m/tmp/ipython-input-3138282306.py\u001b[0m in \u001b[0;36m<cell line: 0>\u001b[0;34m()\u001b[0m\n\u001b[0;32m----> 1\u001b[0;31m \u001b[0mdf_map\u001b[0m \u001b[0;34m=\u001b[0m \u001b[0mpd\u001b[0m\u001b[0;34m.\u001b[0m\u001b[0mread_csv\u001b[0m\u001b[0;34m(\u001b[0m\u001b[0mbrainnetome_to_yeo7\u001b[0m\u001b[0;34m)\u001b[0m\u001b[0;34m\u001b[0m\u001b[0;34m\u001b[0m\u001b[0m\n\u001b[0m\u001b[1;32m      2\u001b[0m \u001b[0mdf_map\u001b[0m\u001b[0;34m[\u001b[0m\u001b[0;34m\"Yeo_7network\"\u001b[0m\u001b[0;34m]\u001b[0m\u001b[0;34m\u001b[0m\u001b[0;34m\u001b[0m\u001b[0m\n",
            "\u001b[0;32m/usr/local/lib/python3.12/dist-packages/pandas/io/parsers/readers.py\u001b[0m in \u001b[0;36mread_csv\u001b[0;34m(filepath_or_buffer, sep, delimiter, header, names, index_col, usecols, dtype, engine, converters, true_values, false_values, skipinitialspace, skiprows, skipfooter, nrows, na_values, keep_default_na, na_filter, verbose, skip_blank_lines, parse_dates, infer_datetime_format, keep_date_col, date_parser, date_format, dayfirst, cache_dates, iterator, chunksize, compression, thousands, decimal, lineterminator, quotechar, quoting, doublequote, escapechar, comment, encoding, encoding_errors, dialect, on_bad_lines, delim_whitespace, low_memory, memory_map, float_precision, storage_options, dtype_backend)\u001b[0m\n\u001b[1;32m   1024\u001b[0m     \u001b[0mkwds\u001b[0m\u001b[0;34m.\u001b[0m\u001b[0mupdate\u001b[0m\u001b[0;34m(\u001b[0m\u001b[0mkwds_defaults\u001b[0m\u001b[0;34m)\u001b[0m\u001b[0;34m\u001b[0m\u001b[0;34m\u001b[0m\u001b[0m\n\u001b[1;32m   1025\u001b[0m \u001b[0;34m\u001b[0m\u001b[0m\n\u001b[0;32m-> 1026\u001b[0;31m     \u001b[0;32mreturn\u001b[0m \u001b[0m_read\u001b[0m\u001b[0;34m(\u001b[0m\u001b[0mfilepath_or_buffer\u001b[0m\u001b[0;34m,\u001b[0m \u001b[0mkwds\u001b[0m\u001b[0;34m)\u001b[0m\u001b[0;34m\u001b[0m\u001b[0;34m\u001b[0m\u001b[0m\n\u001b[0m\u001b[1;32m   1027\u001b[0m \u001b[0;34m\u001b[0m\u001b[0m\n\u001b[1;32m   1028\u001b[0m \u001b[0;34m\u001b[0m\u001b[0m\n",
            "\u001b[0;32m/usr/local/lib/python3.12/dist-packages/pandas/io/parsers/readers.py\u001b[0m in \u001b[0;36m_read\u001b[0;34m(filepath_or_buffer, kwds)\u001b[0m\n\u001b[1;32m    618\u001b[0m \u001b[0;34m\u001b[0m\u001b[0m\n\u001b[1;32m    619\u001b[0m     \u001b[0;31m# Create the parser.\u001b[0m\u001b[0;34m\u001b[0m\u001b[0;34m\u001b[0m\u001b[0m\n\u001b[0;32m--> 620\u001b[0;31m     \u001b[0mparser\u001b[0m \u001b[0;34m=\u001b[0m \u001b[0mTextFileReader\u001b[0m\u001b[0;34m(\u001b[0m\u001b[0mfilepath_or_buffer\u001b[0m\u001b[0;34m,\u001b[0m \u001b[0;34m**\u001b[0m\u001b[0mkwds\u001b[0m\u001b[0;34m)\u001b[0m\u001b[0;34m\u001b[0m\u001b[0;34m\u001b[0m\u001b[0m\n\u001b[0m\u001b[1;32m    621\u001b[0m \u001b[0;34m\u001b[0m\u001b[0m\n\u001b[1;32m    622\u001b[0m     \u001b[0;32mif\u001b[0m \u001b[0mchunksize\u001b[0m \u001b[0;32mor\u001b[0m \u001b[0miterator\u001b[0m\u001b[0;34m:\u001b[0m\u001b[0;34m\u001b[0m\u001b[0;34m\u001b[0m\u001b[0m\n",
            "\u001b[0;32m/usr/local/lib/python3.12/dist-packages/pandas/io/parsers/readers.py\u001b[0m in \u001b[0;36m__init__\u001b[0;34m(self, f, engine, **kwds)\u001b[0m\n\u001b[1;32m   1618\u001b[0m \u001b[0;34m\u001b[0m\u001b[0m\n\u001b[1;32m   1619\u001b[0m         \u001b[0mself\u001b[0m\u001b[0;34m.\u001b[0m\u001b[0mhandles\u001b[0m\u001b[0;34m:\u001b[0m \u001b[0mIOHandles\u001b[0m \u001b[0;34m|\u001b[0m \u001b[0;32mNone\u001b[0m \u001b[0;34m=\u001b[0m \u001b[0;32mNone\u001b[0m\u001b[0;34m\u001b[0m\u001b[0;34m\u001b[0m\u001b[0m\n\u001b[0;32m-> 1620\u001b[0;31m         \u001b[0mself\u001b[0m\u001b[0;34m.\u001b[0m\u001b[0m_engine\u001b[0m \u001b[0;34m=\u001b[0m \u001b[0mself\u001b[0m\u001b[0;34m.\u001b[0m\u001b[0m_make_engine\u001b[0m\u001b[0;34m(\u001b[0m\u001b[0mf\u001b[0m\u001b[0;34m,\u001b[0m \u001b[0mself\u001b[0m\u001b[0;34m.\u001b[0m\u001b[0mengine\u001b[0m\u001b[0;34m)\u001b[0m\u001b[0;34m\u001b[0m\u001b[0;34m\u001b[0m\u001b[0m\n\u001b[0m\u001b[1;32m   1621\u001b[0m \u001b[0;34m\u001b[0m\u001b[0m\n\u001b[1;32m   1622\u001b[0m     \u001b[0;32mdef\u001b[0m \u001b[0mclose\u001b[0m\u001b[0;34m(\u001b[0m\u001b[0mself\u001b[0m\u001b[0;34m)\u001b[0m \u001b[0;34m->\u001b[0m \u001b[0;32mNone\u001b[0m\u001b[0;34m:\u001b[0m\u001b[0;34m\u001b[0m\u001b[0;34m\u001b[0m\u001b[0m\n",
            "\u001b[0;32m/usr/local/lib/python3.12/dist-packages/pandas/io/parsers/readers.py\u001b[0m in \u001b[0;36m_make_engine\u001b[0;34m(self, f, engine)\u001b[0m\n\u001b[1;32m   1878\u001b[0m                 \u001b[0;32mif\u001b[0m \u001b[0;34m\"b\"\u001b[0m \u001b[0;32mnot\u001b[0m \u001b[0;32min\u001b[0m \u001b[0mmode\u001b[0m\u001b[0;34m:\u001b[0m\u001b[0;34m\u001b[0m\u001b[0;34m\u001b[0m\u001b[0m\n\u001b[1;32m   1879\u001b[0m                     \u001b[0mmode\u001b[0m \u001b[0;34m+=\u001b[0m \u001b[0;34m\"b\"\u001b[0m\u001b[0;34m\u001b[0m\u001b[0;34m\u001b[0m\u001b[0m\n\u001b[0;32m-> 1880\u001b[0;31m             self.handles = get_handle(\n\u001b[0m\u001b[1;32m   1881\u001b[0m                 \u001b[0mf\u001b[0m\u001b[0;34m,\u001b[0m\u001b[0;34m\u001b[0m\u001b[0;34m\u001b[0m\u001b[0m\n\u001b[1;32m   1882\u001b[0m                 \u001b[0mmode\u001b[0m\u001b[0;34m,\u001b[0m\u001b[0;34m\u001b[0m\u001b[0;34m\u001b[0m\u001b[0m\n",
            "\u001b[0;32m/usr/local/lib/python3.12/dist-packages/pandas/io/common.py\u001b[0m in \u001b[0;36mget_handle\u001b[0;34m(path_or_buf, mode, encoding, compression, memory_map, is_text, errors, storage_options)\u001b[0m\n\u001b[1;32m    871\u001b[0m         \u001b[0;32mif\u001b[0m \u001b[0mioargs\u001b[0m\u001b[0;34m.\u001b[0m\u001b[0mencoding\u001b[0m \u001b[0;32mand\u001b[0m \u001b[0;34m\"b\"\u001b[0m \u001b[0;32mnot\u001b[0m \u001b[0;32min\u001b[0m \u001b[0mioargs\u001b[0m\u001b[0;34m.\u001b[0m\u001b[0mmode\u001b[0m\u001b[0;34m:\u001b[0m\u001b[0;34m\u001b[0m\u001b[0;34m\u001b[0m\u001b[0m\n\u001b[1;32m    872\u001b[0m             \u001b[0;31m# Encoding\u001b[0m\u001b[0;34m\u001b[0m\u001b[0;34m\u001b[0m\u001b[0m\n\u001b[0;32m--> 873\u001b[0;31m             handle = open(\n\u001b[0m\u001b[1;32m    874\u001b[0m                 \u001b[0mhandle\u001b[0m\u001b[0;34m,\u001b[0m\u001b[0;34m\u001b[0m\u001b[0;34m\u001b[0m\u001b[0m\n\u001b[1;32m    875\u001b[0m                 \u001b[0mioargs\u001b[0m\u001b[0;34m.\u001b[0m\u001b[0mmode\u001b[0m\u001b[0;34m,\u001b[0m\u001b[0;34m\u001b[0m\u001b[0;34m\u001b[0m\u001b[0m\n",
            "\u001b[0;31mFileNotFoundError\u001b[0m: [Errno 2] No such file or directory: '/kaggle/input/brainnetome-to-yeo7/brainnetome_to_yeo7.csv'"
          ]
        }
      ],
      "source": [
        "df_map = pd.read_csv(brainnetome_to_yeo7)\n",
        "df_map[\"Yeo_7network\"]"
      ]
    },
    {
      "cell_type": "code",
      "execution_count": null,
      "metadata": {
        "id": "QAHpFpMuTtvk"
      },
      "outputs": [],
      "source": [
        "df_map[\"Yeo_7network\"].unique()"
      ]
    },
    {
      "cell_type": "code",
      "execution_count": null,
      "metadata": {
        "id": "Ec9n7-cATtvk"
      },
      "outputs": [],
      "source": [
        "modules = []\n",
        "for i in range(1, 247):\n",
        "    val = df_map.loc[df_map[\"index\"] == i, \"Yeo_7network\"].values[0]\n",
        "\n",
        "    if val == 'Frontoparietal':\n",
        "        modules.append(0)\n",
        "    elif val == 'Ventral Attention':\n",
        "        modules.append(1)\n",
        "    elif val == 'Default':\n",
        "        modules.append(2)\n",
        "    elif val == 'Dorsal Attention':\n",
        "        modules.append(3)\n",
        "    elif val == 'Somatomotor':\n",
        "        modules.append(4)\n",
        "    elif val == 'Limbic':\n",
        "        modules.append(5)\n",
        "    elif val == 'Visual':\n",
        "        modules.append(6)\n",
        "    elif val == 'SCGM':\n",
        "        modules.append(7)\n",
        "modules = np.array(modules)\n",
        "print(modules.shape)\n",
        "print(modules)"
      ]
    },
    {
      "cell_type": "markdown",
      "metadata": {
        "id": "cxGHvb1fTtvk"
      },
      "source": [
        "### Pretraining"
      ]
    },
    {
      "cell_type": "code",
      "execution_count": null,
      "metadata": {
        "id": "xCFjQX0wTtvk"
      },
      "outputs": [],
      "source": [
        "mamba.eval()\n",
        "for param in mamba.parameters():\n",
        "    param.requires_grad = False\n",
        "real_train_TS = TS[train_idx]\n",
        "all_TS = torch.cat([real_train_TS, val_TS, test_TS], dim=0).to(device)\n",
        "\n",
        "\n",
        "# Generate FC representations\n",
        "all_FC_list = []\n",
        "with torch.no_grad():  # no gradient needed\n",
        "    for ts in all_TS:\n",
        "        ts = ts.unsqueeze(0)  # add batch dimension\n",
        "        ts_repr = mamba(ts)   # forward pass through mamba\n",
        "        for ts in ts_repr:\n",
        "            ts_np = ts.cpu().numpy()\n",
        "            fc = FC_compute(ts_np)\n",
        "            all_FC_list.append(fc)\n",
        "\n",
        "# Convert to tensor if needed\n",
        "all_FC = torch.tensor(all_FC_list, dtype=torch.float32)\n",
        "mean_FC = all_FC.mean(dim=0)  # shape: [246, 246]\n",
        "print(all_FC.shape)\n",
        "print(mean_FC.shape)"
      ]
    },
    {
      "cell_type": "code",
      "execution_count": null,
      "metadata": {
        "id": "uVsmIf2DTtvk"
      },
      "outputs": [],
      "source": [
        "print(mean_FC)"
      ]
    },
    {
      "cell_type": "code",
      "execution_count": null,
      "metadata": {
        "id": "2Mf3N2m0Ttvk"
      },
      "outputs": [],
      "source": [
        "from sklearn.cluster import KMeans\n",
        "from scipy.cluster.hierarchy import linkage, fcluster\n",
        "from scipy.spatial.distance import squareform\n",
        "\n",
        "N_total = all_FC.shape[0]\n",
        "n_clusters = 7  # only for cortical nodes\n",
        "n_runs = 50  # number of KMeans runs per subject\n",
        "cortical_nodes = 210  # nodes 0-209\n",
        "subcortical_nodes = 246 - cortical_nodes  # nodes 210-245\n",
        "\n",
        "adj = all_FC[subj]  # (246, 246)\n",
        "roi_features = adj[:cortical_nodes, :cortical_nodes]  # only cortical nodes\n",
        "\n",
        "# Step 1: Run KMeans multiple times\n",
        "all_run_labels = []\n",
        "for run in range(n_runs):\n",
        "    kmeans = KMeans(n_clusters=n_clusters, random_state=run, n_init=10)\n",
        "    labels = kmeans.fit_predict(roi_features)\n",
        "    all_run_labels.append(labels)\n",
        "all_run_labels = np.array(all_run_labels)  # (n_runs, cortical_nodes)\n",
        "\n",
        "# Step 2: Build co-association matrix (vectorized)\n",
        "coassoc = np.zeros((cortical_nodes, cortical_nodes))\n",
        "for run_labels in all_run_labels:\n",
        "    mask = run_labels[:, None] == run_labels[None, :]\n",
        "    coassoc += mask.astype(float)\n",
        "coassoc /= n_runs  # normalize to [0,1]\n",
        "\n",
        "# Step 3: Consensus clustering using hierarchical clustering\n",
        "distance_matrix = 1 - coassoc\n",
        "condensed_distance = squareform(distance_matrix, checks=False)\n",
        "Z = linkage(condensed_distance, method='average')\n",
        "consensus_labels_cortical = fcluster(Z, t=n_clusters, criterion='maxclust') - 1  # 0-indexed\n",
        "\n",
        "# Step 4: Combine cortical + subcortical nodes\n",
        "consensus_labels = np.zeros(246, dtype=int)\n",
        "consensus_labels[:cortical_nodes] = consensus_labels_cortical\n",
        "consensus_labels[cortical_nodes:] = n_clusters  # assign fixed label to subcortical nodes\n",
        "print(\"Consensus cluster labels shape:\", consensus_labels.shape)"
      ]
    },
    {
      "cell_type": "code",
      "execution_count": null,
      "metadata": {
        "id": "4dFpZXg_Ttvl"
      },
      "outputs": [],
      "source": [
        "print(consensus_labels)"
      ]
    },
    {
      "cell_type": "code",
      "execution_count": null,
      "metadata": {
        "id": "RyfLgH3WTtvl"
      },
      "outputs": [],
      "source": [
        "real_sc_train = SC[train_idx].to(device)\n",
        "real_ts_train = real_train_TS.to(device)\n",
        "\n",
        "all_fc_real_train = []\n",
        "all_sc_real_train = []\n",
        "\n",
        "with torch.no_grad():\n",
        "    sc_repr = encoder(real_sc_train)\n",
        "    all_sc_real_train.append(sc_repr.cpu())\n",
        "\n",
        "    ts_repr = mamba(real_ts_train)\n",
        "    for ts in ts_repr:\n",
        "        ts_np = ts.cpu().numpy()\n",
        "        fc = FC_compute(ts_np)\n",
        "        all_fc_real_train.append(torch.tensor(fc))\n",
        "\n",
        "SC_real_train_embeddings = torch.cat(all_sc_real_train, dim=0)\n",
        "FC_real_train_embeddings = torch.stack(all_fc_real_train, dim=0)"
      ]
    },
    {
      "cell_type": "code",
      "execution_count": null,
      "metadata": {
        "id": "yiOrJ47OTtvl"
      },
      "outputs": [],
      "source": [
        "# Use the trained classifier’s encoder\n",
        "encoder_finetune = model.fc_encoder\n",
        "\n",
        "fc_out_train = get_fc_outs(encoder_finetune, FC_real_train_embeddings, SC_real_train_embeddings, device)\n",
        "fc_out_val   = get_fc_outs(encoder_finetune, FC_val_embeddings, SC_val_embeddings, device)\n",
        "fc_out_test  = get_fc_outs(encoder_finetune, FC_test_embeddings, SC_test_embeddings, device)\n",
        "\n",
        "print(\"Train fc_out:\", fc_out_train.shape)  # (N_train, 246, 246)\n",
        "print(\"Val fc_out:\",   fc_out_val.shape)    # (N_val,   246, 246)\n",
        "print(\"Test fc_out:\",  fc_out_test.shape)   # (N_test,  246, 246)"
      ]
    },
    {
      "cell_type": "code",
      "execution_count": null,
      "metadata": {
        "id": "rZw7BpEvTtvl"
      },
      "outputs": [],
      "source": [
        "all_FC = torch.cat([fc_out_train, fc_out_val, fc_out_test], dim=0)\n",
        "print(all_FC.shape)\n",
        "mean_FC = all_FC.mean(dim=0)  # shape: [246, 246]\n",
        "print(all_FC.shape)\n",
        "print(mean_FC.shape)"
      ]
    },
    {
      "cell_type": "code",
      "execution_count": null,
      "metadata": {
        "id": "9t3Wip-NTtvl"
      },
      "outputs": [],
      "source": [
        "print(mean_FC)"
      ]
    },
    {
      "cell_type": "code",
      "execution_count": null,
      "metadata": {
        "id": "SZZMgLqMTtvl"
      },
      "outputs": [],
      "source": [
        "from sklearn.cluster import KMeans\n",
        "from scipy.cluster.hierarchy import linkage, fcluster\n",
        "from scipy.spatial.distance import squareform\n",
        "import numpy as np\n",
        "\n",
        "n_clusters = 7  # only for cortical nodes\n",
        "n_runs = 50     # number of KMeans runs\n",
        "cortical_nodes = 210\n",
        "subcortical_nodes = 246 - cortical_nodes\n",
        "\n",
        "# Step 0: get cortical adjacency\n",
        "roi_features = mean_FC[:cortical_nodes, :cortical_nodes]  # (210, 210)\n",
        "\n",
        "# Step 1: Run KMeans multiple times\n",
        "all_run_labels = []\n",
        "for run in range(n_runs):\n",
        "    kmeans = KMeans(n_clusters=n_clusters, random_state=run, n_init=10)\n",
        "    labels = kmeans.fit_predict(roi_features)\n",
        "    all_run_labels.append(labels)\n",
        "all_run_labels = np.array(all_run_labels)  # (n_runs, cortical_nodes)\n",
        "\n",
        "# Step 2: Build co-association matrix\n",
        "coassoc = np.zeros((cortical_nodes, cortical_nodes))\n",
        "for run_labels in all_run_labels:\n",
        "    mask = run_labels[:, None] == run_labels[None, :]\n",
        "    coassoc += mask.astype(float)\n",
        "coassoc /= n_runs  # normalize to [0,1]\n",
        "\n",
        "# Step 3: Consensus clustering using hierarchical clustering\n",
        "distance_matrix = 1 - coassoc\n",
        "condensed_distance = squareform(distance_matrix, checks=False)\n",
        "Z = linkage(condensed_distance, method='average')\n",
        "consensus_labels_cortical = fcluster(Z, t=n_clusters, criterion='maxclust') - 1  # 0-indexed\n",
        "\n",
        "# Step 4: Combine cortical + subcortical nodes\n",
        "consensus_labels = np.zeros(246, dtype=int)\n",
        "consensus_labels[:cortical_nodes] = consensus_labels_cortical\n",
        "consensus_labels[cortical_nodes:] = n_clusters  # fixed label for subcortical nodes\n",
        "\n",
        "print(\"Consensus cluster labels shape:\", consensus_labels.shape)\n",
        "print(\"Consensus cluster labels:\", consensus_labels)"
      ]
    },
    {
      "cell_type": "code",
      "execution_count": null,
      "metadata": {
        "id": "-PVcmBI_Ttvl"
      },
      "outputs": [],
      "source": [
        "from sklearn.cluster import KMeans\n",
        "from scipy.cluster.hierarchy import linkage, fcluster\n",
        "from scipy.spatial.distance import squareform\n",
        "\n",
        "fc_out_all = np.concatenate([fc_out_train, fc_out_val, fc_out_test], axis=0)  # (N_total, 246, 246)\n",
        "N_total = fc_out_all.shape[0]\n",
        "n_clusters = 7  # only for cortical nodes\n",
        "n_runs = 50  # number of KMeans runs per subject\n",
        "cortical_nodes = 210  # nodes 0-209\n",
        "subcortical_nodes = 246 - cortical_nodes\n",
        "\n",
        "consensus_labels_all = []\n",
        "\n",
        "for subj in range(N_total):\n",
        "    adj = fc_out_all[subj]  # (246, 246)\n",
        "    roi_features = adj[:cortical_nodes, :cortical_nodes]  # only cortical nodes\n",
        "\n",
        "    # Step 1: Run KMeans multiple times\n",
        "    all_run_labels = []\n",
        "    for run in range(n_runs):\n",
        "        kmeans = KMeans(n_clusters=n_clusters, random_state=run, n_init=10)\n",
        "        labels = kmeans.fit_predict(roi_features)\n",
        "        all_run_labels.append(labels)\n",
        "    all_run_labels = np.array(all_run_labels)  # (n_runs, cortical_nodes)\n",
        "\n",
        "    # Step 2: Build co-association matrix (vectorized)\n",
        "    coassoc = np.zeros((cortical_nodes, cortical_nodes))\n",
        "    for run_labels in all_run_labels:\n",
        "        mask = run_labels[:, None] == run_labels[None, :]\n",
        "        coassoc += mask.astype(float)\n",
        "    coassoc /= n_runs  # normalize to [0,1]\n",
        "\n",
        "    # Step 3: Consensus clustering using hierarchical clustering\n",
        "    distance_matrix = 1 - coassoc\n",
        "    condensed_distance = squareform(distance_matrix, checks=False)\n",
        "    Z = linkage(condensed_distance, method='average')\n",
        "    consensus_labels_cortical = fcluster(Z, t=n_clusters, criterion='maxclust') - 1  # 0-indexed\n",
        "\n",
        "    # Step 4: Combine cortical + subcortical nodes\n",
        "    consensus_labels = np.zeros(246, dtype=int)\n",
        "    consensus_labels[:cortical_nodes] = consensus_labels_cortical\n",
        "    consensus_labels[cortical_nodes:] = n_clusters  # assign fixed label to subcortical nodes\n",
        "    consensus_labels_all.append(consensus_labels)\n",
        "\n",
        "consensus_labels_all = np.array(consensus_labels_all)  # (N_total, 246)\n",
        "print(\"Consensus cluster labels shape:\", consensus_labels_all.shape)\n"
      ]
    },
    {
      "cell_type": "code",
      "execution_count": null,
      "metadata": {
        "id": "1z7LpRdTTtvl"
      },
      "outputs": [],
      "source": [
        "df_map = pd.read_csv(brainnetome_to_yeo7)\n",
        "df_map[\"Yeo_7network\"]"
      ]
    },
    {
      "cell_type": "code",
      "execution_count": null,
      "metadata": {
        "id": "srNhDtidTtvl"
      },
      "outputs": [],
      "source": [
        "df_map[\"Yeo_7network\"].unique()"
      ]
    },
    {
      "cell_type": "code",
      "execution_count": null,
      "metadata": {
        "id": "AVbE4HfzTtvl"
      },
      "outputs": [],
      "source": [
        "modules = []\n",
        "for i in range(1, 247):\n",
        "    val = df_map.loc[df_map[\"index\"] == i, \"Yeo_7network\"].values[0]\n",
        "\n",
        "    if val == 'Frontoparietal':\n",
        "        modules.append(0)\n",
        "    elif val == 'Ventral Attention':\n",
        "        modules.append(1)\n",
        "    elif val == 'Default':\n",
        "        modules.append(2)\n",
        "    elif val == 'Dorsal Attention':\n",
        "        modules.append(3)\n",
        "    elif val == 'Somatomotor':\n",
        "        modules.append(4)\n",
        "    elif val == 'Limbic':\n",
        "        modules.append(5)\n",
        "    elif val == 'Visual':\n",
        "        modules.append(6)\n",
        "    elif val == 'SCGM':\n",
        "        modules.append(7)\n",
        "modules = np.array(modules)\n",
        "print(modules.shape)\n",
        "print(modules)"
      ]
    },
    {
      "cell_type": "code",
      "execution_count": null,
      "metadata": {
        "id": "rvPi-IkITtvm"
      },
      "outputs": [],
      "source": [
        "y_all = np.concatenate([y_train_np, y_val_np, y_test_np], axis=0)"
      ]
    },
    {
      "cell_type": "code",
      "execution_count": null,
      "metadata": {
        "id": "ZrUCBTGlTtvm"
      },
      "outputs": [],
      "source": [
        "print(consensus_labels)"
      ]
    },
    {
      "cell_type": "code",
      "execution_count": null,
      "metadata": {
        "id": "LKNd3Fg9Ttvm"
      },
      "outputs": [],
      "source": [
        "import numpy as np\n",
        "import matplotlib.pyplot as plt\n",
        "import seaborn as sns\n",
        "\n",
        "def jaccard_index(set1, set2):\n",
        "    return len(set1 & set2) / len(set1 | set2)\n",
        "\n",
        "unique_consensus = np.unique(consensus_labels)\n",
        "unique_modules = np.unique(modules)\n",
        "unique_consensus = [c for c in unique_consensus if c != 7]\n",
        "unique_modules = [c for c in unique_consensus if c != 7]\n",
        "\n",
        "jaccard_matrix = np.zeros((len(unique_consensus), len(unique_modules)))\n",
        "\n",
        "for i, c in enumerate(unique_consensus):\n",
        "    nodes_c = set(np.where(consensus_labels == c)[0])\n",
        "    for j, m in enumerate(unique_modules):\n",
        "        nodes_m = set(np.where(modules == m)[0])\n",
        "        jaccard_matrix[i, j] = jaccard_index(nodes_c, nodes_m)\n",
        "\n",
        "print(\"Jaccard similarity matrix (consensus clusters × module networks):\")\n",
        "print(jaccard_matrix)"
      ]
    },
    {
      "cell_type": "code",
      "execution_count": null,
      "metadata": {
        "id": "qJB5MXlATtvm"
      },
      "outputs": [],
      "source": [
        "plt.figure(figsize=(8, 6))\n",
        "sns.heatmap(jaccard_matrix,\n",
        "            annot=True, fmt=\".2f\",\n",
        "            xticklabels=[f\"Mod {m}\" for m in unique_modules],\n",
        "            yticklabels=[f\"Cluster {c}\" for c in unique_consensus],\n",
        "            cmap=\"viridis\")\n",
        "\n",
        "plt.xlabel(\"Modules clustering\")\n",
        "plt.ylabel(\"Consensus clusters\")\n",
        "plt.title(\"Jaccard Index (Consensus vs Modules)\")\n",
        "plt.tight_layout()\n",
        "plt.show()"
      ]
    },
    {
      "cell_type": "markdown",
      "metadata": {
        "id": "C5_WC0Z7Ttvm"
      },
      "source": [
        "## Compare young and elderly brain subnetworks"
      ]
    },
    {
      "cell_type": "code",
      "execution_count": null,
      "metadata": {
        "id": "iJESVwNATtvm"
      },
      "outputs": [],
      "source": [
        "from sklearn.metrics import adjusted_rand_score\n",
        "\n",
        "all_similarity = []\n",
        "for i in range(116):\n",
        "    ari = adjusted_rand_score(consensus_labels_all[i], modules)\n",
        "    all_similarity.append(ari)"
      ]
    },
    {
      "cell_type": "code",
      "execution_count": null,
      "metadata": {
        "id": "gGiB_tSUTtvm"
      },
      "outputs": [],
      "source": [
        "print(all_similarity)"
      ]
    },
    {
      "cell_type": "code",
      "execution_count": null,
      "metadata": {
        "id": "KzrsVkVdTtvm"
      },
      "outputs": [],
      "source": [
        "import numpy as np\n",
        "from scipy.stats import ttest_ind\n",
        "\n",
        "# Convert to numpy arrays\n",
        "y_all = np.array(y_all)  # shape (N_total,)\n",
        "all_similarity = np.array(all_similarity)  # shape (N_total,)\n",
        "\n",
        "# Separate the similarity scores by group\n",
        "group0_sim = all_similarity[y_all == 0]\n",
        "group1_sim = all_similarity[y_all == 1]\n",
        "\n",
        "# Perform independent t-test (Welch's t-test)\n",
        "t_stat, p_value = ttest_ind(group0_sim, group1_sim, equal_var=False)\n",
        "\n",
        "print(\"Group 0 mean similarity:\", group0_sim.mean())\n",
        "print(\"Group 1 mean similarity:\", group1_sim.mean())\n",
        "print(\"t-statistic:\", t_stat)\n",
        "print(\"p-value:\", p_value)\n",
        "print(group0_sim.shape)"
      ]
    },
    {
      "cell_type": "code",
      "execution_count": null,
      "metadata": {
        "id": "iV77Nfc8Ttvm"
      },
      "outputs": [],
      "source": [
        "import matplotlib.pyplot as plt\n",
        "import numpy as np\n",
        "\n",
        "# Convert to numpy arrays if they aren't already\n",
        "y_all = np.array(y_all)\n",
        "all_similarity = np.array(all_similarity)\n",
        "\n",
        "# Split similarity scores by group\n",
        "similarity_group0 = all_similarity[y_all == 0]\n",
        "similarity_group1 = all_similarity[y_all == 1]\n",
        "\n",
        "# Create x positions for scatter (just the index within each group)\n",
        "x0 = np.arange(len(similarity_group0))\n",
        "x1 = np.arange(len(similarity_group1))\n",
        "\n",
        "plt.figure(figsize=(12, 5))\n",
        "\n",
        "# Scatter plot for Group 0\n",
        "plt.subplot(1, 2, 1)\n",
        "plt.scatter(x0, similarity_group0, color='blue', alpha=0.6)\n",
        "plt.title('Similarity Scores - Group 0')\n",
        "plt.xlabel('Sample index')\n",
        "plt.ylabel('Adjusted Rand Index')\n",
        "\n",
        "# Scatter plot for Group 1\n",
        "plt.subplot(1, 2, 2)\n",
        "plt.scatter(x1, similarity_group1, color='red', alpha=0.6)\n",
        "plt.title('Similarity Scores - Group 1')\n",
        "plt.xlabel('Sample index')\n",
        "plt.ylabel('Adjusted Rand Index')\n",
        "\n",
        "plt.tight_layout()\n",
        "plt.show()"
      ]
    },
    {
      "cell_type": "code",
      "execution_count": null,
      "metadata": {
        "id": "IA2uiuCITtvm"
      },
      "outputs": [],
      "source": [
        "plt.figure(figsize=(8, 6))\n",
        "\n",
        "# Scatter plot for both groups\n",
        "plt.scatter(x0, similarity_group0, color='blue', alpha=0.6, label='Group 0')\n",
        "plt.scatter(x1, similarity_group1, color='red', alpha=0.6, label='Group 1')\n",
        "\n",
        "plt.title('Similarity Scores by Group')\n",
        "plt.xlabel('Sample index within group')\n",
        "plt.ylabel('Adjusted Rand Index')\n",
        "plt.legend()\n",
        "plt.show()\n"
      ]
    },
    {
      "cell_type": "markdown",
      "metadata": {
        "id": "iZ3WwOaUTtvm"
      },
      "source": [
        "## Density peak"
      ]
    },
    {
      "cell_type": "code",
      "execution_count": null,
      "metadata": {
        "id": "8D2K7APRTtvm"
      },
      "outputs": [],
      "source": [
        "import numpy as np\n",
        "from scipy.spatial.distance import pdist, squareform\n",
        "from scipy.cluster.hierarchy import linkage, fcluster\n",
        "\n",
        "def density_peak_clustering(X, n_clusters=None, dc=None):\n",
        "    N = X.shape[0]\n",
        "    dist = squareform(pdist(X))  # pairwise distances\n",
        "\n",
        "    if dc is None:\n",
        "        # cutoff distance = median of all distances\n",
        "        dc = np.median(dist)\n",
        "\n",
        "    # 1. Local density (Gaussian kernel)\n",
        "    rho = np.sum(np.exp(-(dist/dc)**2), axis=1) - 1  # exclude self\n",
        "\n",
        "    # 2. Distance to nearest higher-density point\n",
        "    delta = np.zeros(N)\n",
        "    nneigh = np.zeros(N, dtype=int)\n",
        "\n",
        "    # sort by density\n",
        "    sorted_idx = np.argsort(-rho)\n",
        "    delta[sorted_idx[0]] = np.max(dist[sorted_idx[0]])  # max dist for densest point\n",
        "    nneigh[sorted_idx[0]] = -1\n",
        "\n",
        "    for i in range(1, N):\n",
        "        idx = sorted_idx[i]\n",
        "        higher = sorted_idx[:i]\n",
        "        dists = dist[idx, higher]\n",
        "        nneigh[idx] = higher[np.argmin(dists)]\n",
        "        delta[idx] = np.min(dists)\n",
        "\n",
        "    # 3. Decision values\n",
        "    gamma = rho * delta\n",
        "\n",
        "    # 4. Select cluster centers\n",
        "    if n_clusters is None:\n",
        "        # User inspects decision graph (ρ vs δ) – manual selection\n",
        "        raise ValueError(\"Please specify n_clusters, or implement auto center detection.\")\n",
        "    else:\n",
        "        centers = np.argsort(-gamma)[:n_clusters]\n",
        "\n",
        "    # 5. Assign each point to nearest higher-density neighbor\n",
        "    labels = -np.ones(N, dtype=int)\n",
        "    for c, center in enumerate(centers):\n",
        "        labels[center] = c\n",
        "\n",
        "    for i in sorted_idx[1:]:\n",
        "        if labels[i] == -1:\n",
        "            labels[i] = labels[nneigh[i]]\n",
        "\n",
        "    return labels\n",
        "\n",
        "# === Replace KMeans with DPC in your loop ===\n",
        "fc_out_all = np.concatenate([fc_out_train, fc_out_val, fc_out_test], axis=0)  # (N_total, 246, 246)\n",
        "N_total = fc_out_all.shape[0]\n",
        "n_clusters = 7\n",
        "n_runs = 100\n",
        "cortical_nodes = 210\n",
        "\n",
        "consensus_labels_all = []\n",
        "\n",
        "for subj in range(N_total):\n",
        "    adj = fc_out_all[subj]\n",
        "    roi_features = adj[:cortical_nodes, :cortical_nodes]\n",
        "\n",
        "    all_run_labels = []\n",
        "    for run in range(n_runs):\n",
        "        labels = density_peak_clustering(roi_features, n_clusters=n_clusters)\n",
        "        all_run_labels.append(labels)\n",
        "    all_run_labels = np.array(all_run_labels)\n",
        "\n",
        "    # Build co-association matrix\n",
        "    coassoc = np.zeros((cortical_nodes, cortical_nodes))\n",
        "    for run_labels in all_run_labels:\n",
        "        mask = run_labels[:, None] == run_labels[None, :]\n",
        "        coassoc += mask.astype(float)\n",
        "    coassoc /= n_runs\n",
        "\n",
        "    # Consensus with hierarchical clustering\n",
        "    distance_matrix = 1 - coassoc\n",
        "    condensed_distance = squareform(distance_matrix, checks=False)\n",
        "    Z = linkage(condensed_distance, method='average')\n",
        "    consensus_labels_cortical = fcluster(Z, t=n_clusters, criterion='maxclust') - 1\n",
        "\n",
        "    consensus_labels = np.zeros(246, dtype=int)\n",
        "    consensus_labels[:cortical_nodes] = consensus_labels_cortical\n",
        "    consensus_labels[cortical_nodes:] = n_clusters\n",
        "    consensus_labels_all.append(consensus_labels)\n",
        "\n",
        "consensus_labels_all = np.array(consensus_labels_all)\n",
        "print(\"Consensus cluster labels shape:\", consensus_labels_all.shape)\n"
      ]
    },
    {
      "cell_type": "code",
      "execution_count": null,
      "metadata": {
        "id": "jeTjWYPLTtvm"
      },
      "outputs": [],
      "source": [
        "from sklearn.metrics import adjusted_rand_score\n",
        "\n",
        "all_similarity = []\n",
        "for i in range(116):\n",
        "    ari = adjusted_rand_score(consensus_labels_all[i], modules)\n",
        "    all_similarity.append(ari)"
      ]
    },
    {
      "cell_type": "code",
      "execution_count": null,
      "metadata": {
        "id": "eN3HGPqpTtvm"
      },
      "outputs": [],
      "source": [
        "all_similarity = np.array(all_similarity)  # shape (116,)\n",
        "\n",
        "# --- Heatmap ---\n",
        "plt.figure(figsize=(10, 6))\n",
        "\n",
        "# We can reshape it to (116,1) to display as a column heatmap\n",
        "sns.heatmap(all_similarity.reshape(-1,1), cmap='viridis', cbar=True,\n",
        "            yticklabels=np.arange(1, len(all_similarity)+1), xticklabels=['Similarity'])\n",
        "plt.xlabel('Modules')\n",
        "plt.ylabel('Subject')\n",
        "plt.title('Adjusted Rand Index per Subject')\n",
        "plt.show()"
      ]
    },
    {
      "cell_type": "code",
      "execution_count": null,
      "metadata": {
        "id": "ZIHt8oxvTtvm"
      },
      "outputs": [],
      "source": [
        "import numpy as np\n",
        "from scipy.stats import ttest_ind\n",
        "\n",
        "# Convert to numpy arrays\n",
        "y_all = np.array(y_all)  # shape (N_total,)\n",
        "all_similarity = np.array(all_similarity)  # shape (N_total,)\n",
        "\n",
        "# Separate the similarity scores by group\n",
        "group0_sim = all_similarity[y_all == 0]\n",
        "group1_sim = all_similarity[y_all == 1]\n",
        "\n",
        "# Perform independent t-test (Welch's t-test)\n",
        "t_stat, p_value = ttest_ind(group0_sim, group1_sim, equal_var=False)\n",
        "\n",
        "print(\"Group 0 mean similarity:\", group0_sim.mean())\n",
        "print(\"Group 1 mean similarity:\", group1_sim.mean())\n",
        "print(\"t-statistic:\", t_stat)\n",
        "print(\"p-value:\", p_value)"
      ]
    },
    {
      "cell_type": "code",
      "execution_count": null,
      "metadata": {
        "id": "Y48ve8PGTtvm"
      },
      "outputs": [],
      "source": [
        "import matplotlib.pyplot as plt\n",
        "import numpy as np\n",
        "\n",
        "# Convert to numpy arrays if they aren't already\n",
        "y_all = np.array(y_all)\n",
        "all_similarity = np.array(all_similarity)\n",
        "\n",
        "# Split similarity scores by group\n",
        "similarity_group0 = all_similarity[y_all == 0]\n",
        "similarity_group1 = all_similarity[y_all == 1]\n",
        "\n",
        "# Create x positions for scatter (just the index within each group)\n",
        "x0 = np.arange(len(similarity_group0))\n",
        "x1 = np.arange(len(similarity_group1))\n",
        "\n",
        "plt.figure(figsize=(12, 5))\n",
        "\n",
        "# Scatter plot for Group 0\n",
        "plt.subplot(1, 2, 1)\n",
        "plt.scatter(x0, similarity_group0, color='blue', alpha=0.6)\n",
        "plt.title('Similarity Scores - Group 0')\n",
        "plt.xlabel('Sample index')\n",
        "plt.ylabel('Adjusted Rand Index')\n",
        "\n",
        "# Scatter plot for Group 1\n",
        "plt.subplot(1, 2, 2)\n",
        "plt.scatter(x1, similarity_group1, color='red', alpha=0.6)\n",
        "plt.title('Similarity Scores - Group 1')\n",
        "plt.xlabel('Sample index')\n",
        "plt.ylabel('Adjusted Rand Index')\n",
        "\n",
        "plt.tight_layout()\n",
        "plt.show()"
      ]
    },
    {
      "cell_type": "code",
      "execution_count": null,
      "metadata": {
        "id": "F1XQYP7dTtvn"
      },
      "outputs": [],
      "source": [
        "plt.figure(figsize=(8, 6))\n",
        "\n",
        "# Scatter plot for both groups\n",
        "plt.scatter(x0, similarity_group0, color='blue', alpha=0.6, label='Group 0')\n",
        "plt.scatter(x1, similarity_group1, color='red', alpha=0.6, label='Group 1')\n",
        "\n",
        "plt.title('Similarity Scores by Group')\n",
        "plt.xlabel('Sample index within group')\n",
        "plt.ylabel('Adjusted Rand Index')\n",
        "plt.legend()\n",
        "plt.show()\n"
      ]
    },
    {
      "cell_type": "code",
      "execution_count": null,
      "metadata": {
        "id": "U7ie7lC7Ttvn"
      },
      "outputs": [],
      "source": [
        "import numpy as np\n",
        "from scipy.stats import mode\n",
        "from sklearn.metrics import confusion_matrix\n",
        "from scipy.optimize import linear_sum_assignment\n",
        "\n",
        "def align_labels(true_labels, pred_labels):\n",
        "    \"\"\"Align cluster labels of pred_labels to match true_labels using Hungarian algorithm.\"\"\"\n",
        "    cm = confusion_matrix(true_labels, pred_labels)\n",
        "    row_ind, col_ind = linear_sum_assignment(-cm)  # maximize overlap\n",
        "    mapping = dict(zip(col_ind, row_ind))\n",
        "    aligned = np.array([mapping[l] for l in pred_labels])\n",
        "    return aligned\n",
        "\n",
        "def consensus_majority_vote(all_labels):\n",
        "    \"\"\"\n",
        "    Compute consensus labels by aligning all runs to the first run\n",
        "    and then taking majority vote per node.\n",
        "    all_labels: shape (n_runs, n_nodes)\n",
        "    \"\"\"\n",
        "    ref = all_labels[0]\n",
        "    aligned_labels = [ref]\n",
        "\n",
        "    for labels in all_labels[1:]:\n",
        "        aligned = align_labels(ref, labels)\n",
        "        aligned_labels.append(aligned)\n",
        "\n",
        "    aligned_labels = np.array(aligned_labels)  # (n_runs, n_nodes)\n",
        "\n",
        "    # majority vote\n",
        "    consensus_labels = mode(aligned_labels, axis=0, keepdims=False).mode\n",
        "    return consensus_labels\n",
        "\n",
        "# Example usage:\n",
        "# all_run_labels: shape (n_runs, n_nodes)\n",
        "consensus_labels = consensus_majority_vote(all_run_labels)\n"
      ]
    },
    {
      "cell_type": "code",
      "execution_count": null,
      "metadata": {
        "id": "VZ-K0M3mTtvn"
      },
      "outputs": [],
      "source": [
        "print(consensus_labels)"
      ]
    },
    {
      "cell_type": "code",
      "execution_count": null,
      "metadata": {
        "id": "3qx8z-4DTtvn"
      },
      "outputs": [],
      "source": [
        "plt.figure(figsize=(8, 6))\n",
        "sns.heatmap(jaccard_matrix,\n",
        "            annot=True, fmt=\".2f\",\n",
        "            xticklabels=[f\"Mod {m}\" for m in unique_modules],\n",
        "            yticklabels=[f\"Cluster {c}\" for c in unique_consensus],\n",
        "            cmap=\"viridis\")\n",
        "\n",
        "plt.xlabel(\"Modules clustering\")\n",
        "plt.ylabel(\"Consensus clusters\")\n",
        "plt.title(\"Jaccard Index (Consensus vs Modules)\")\n",
        "plt.tight_layout()\n",
        "plt.show()"
      ]
    },
    {
      "cell_type": "markdown",
      "metadata": {
        "id": "vyO-J4YUTtvn"
      },
      "source": [
        "## Mamba Attribution Analysis"
      ]
    },
    {
      "cell_type": "code",
      "execution_count": null,
      "metadata": {
        "id": "9cHtylNRTtvn"
      },
      "outputs": [],
      "source": [
        "import torch, torch.nn.functional as F\n",
        "from contextlib import contextmanager\n",
        "\n",
        "# Force unfused path so hooks fire\n",
        "@contextmanager\n",
        "def _force_slow_path(mamba_layer):\n",
        "    old = mamba_layer.use_fast_path\n",
        "    mamba_layer.use_fast_path = False\n",
        "    try: yield\n",
        "    finally: mamba_layer.use_fast_path = old\n",
        "\n",
        "@torch.no_grad()\n",
        "def _capture_ABCDtC_all_timesteps(layer, x_in):\n",
        "    \"\"\"Return A, dt_pre, B_all, C_all, dt_bias, W_out, W_in_x for batch=1.\"\"\"\n",
        "    B,L,D = x_in.shape\n",
        "    taps = {}\n",
        "    def hook_xproj(mod, inp, out):\n",
        "        dt_rank, d_state = layer.dt_rank, layer.d_state\n",
        "        dt_raw, B_flat, C_flat = torch.split(out, [dt_rank, d_state, d_state], dim=-1)\n",
        "        dt_pre = (layer.dt_proj.weight @ dt_raw.t()).t().view(B,L,-1).permute(0,2,1).contiguous()\n",
        "        B_all  = B_flat.view(B,L,d_state).permute(0,2,1).contiguous()\n",
        "        C_all  = C_flat.view(B,L,d_state).permute(0,2,1).contiguous()\n",
        "        taps[\"dt_pre\"], taps[\"B_all\"], taps[\"C_all\"] = dt_pre.detach(), B_all.detach(), C_all.detach()\n",
        "    h = layer.x_proj.register_forward_hook(hook_xproj)\n",
        "    with _force_slow_path(layer):\n",
        "        _ = layer(x_in.to(next(layer.parameters()).dtype))\n",
        "    h.remove()\n",
        "    taps[\"A\"]       = (-torch.exp(layer.A_log.float())).detach()\n",
        "    taps[\"dt_bias\"] = layer.dt_proj.bias.detach()\n",
        "    taps[\"W_out\"]   = layer.out_proj.weight.detach()\n",
        "    taps[\"W_in_x\"]  = layer.in_proj.weight.detach()[:layer.d_inner, :]  # x-branch\n",
        "    return taps\n",
        "\n",
        "@torch.no_grad()\n",
        "def lag1_roi_matrix_hidden(model, xb, include_gate=True, rows=\"source\", normalize=None):\n",
        "    \"\"\"\n",
        "    xb: [1,L,D] single sequence.\n",
        "    Returns M [D,D]:\n",
        "      if rows='source'  -> rows=past r(t-1), cols=current q(t).\n",
        "      if rows='dest'    -> rows=current q,   cols=past r.\n",
        "    \"\"\"\n",
        "    assert xb.shape[0] == 1\n",
        "    layer = model.mb\n",
        "    _, L, D = xb.shape\n",
        "    taps = _capture_ABCDtC_all_timesteps(layer, xb)\n",
        "    A, dt_pre, B_all, C_all = taps[\"A\"], taps[\"dt_pre\"], taps[\"B_all\"], taps[\"C_all\"]\n",
        "    dt_bias, W_out, W_in_x  = taps[\"dt_bias\"], taps[\"W_out\"], taps[\"W_in_x\"]\n",
        "    d_inner, d_state = A.shape\n",
        "\n",
        "    dt_sp  = F.softplus(dt_pre + dt_bias.view(1,-1,1))                     # [1,d_inner,L]\n",
        "    log_dA = dt_sp.unsqueeze(2) * A.view(1,d_inner,d_state,1)\n",
        "    S      = torch.cumsum(log_dA, dim=-1)                                   # prefix sums\n",
        "\n",
        "    # gate at target time (usually helps)\n",
        "    if include_gate:\n",
        "        xz = layer.in_proj(xb.to(next(layer.parameters()).dtype))           # [1,L,2*d_inner]\n",
        "        _, z = torch.chunk(xz, 2, dim=-1)\n",
        "        g = F.silu(z).permute(0,2,1).contiguous()[0]                        # [d_inner,L]\n",
        "    else:\n",
        "        g = None\n",
        "\n",
        "    # accumulate channel weights for lag=1 over t=1..L-1\n",
        "    S_ch = torch.zeros(d_inner, device=xb.device, dtype=dt_sp.dtype)\n",
        "    cnt  = 0\n",
        "    for t in range(1, L):\n",
        "        s_t = S[..., t]                           # [1,d_inner,d_state]\n",
        "        s_j = S[..., t-1:t]                       # [1,d_inner,d_state,1]\n",
        "        logprod = s_t.unsqueeze(-1) - s_j         # [1,d_inner,d_state,1]\n",
        "        dB_j = (dt_sp[:, :, t-1:t].unsqueeze(2) * B_all[:, None, :, t-1:t])  # [1,d_inner,d_state,1]\n",
        "        C_t = C_all[..., t]                       # [1,d_state]\n",
        "        alpha = (torch.exp(logprod) * dB_j * C_t[:,None,:,None]).sum(dim=2)[0,:,0]  # [d_inner]\n",
        "        if include_gate: alpha = alpha * g[:, t]\n",
        "        S_ch += alpha\n",
        "        cnt  += 1\n",
        "    S_ch = S_ch / max(cnt, 1)\n",
        "\n",
        "    # fold channels to ROI space\n",
        "    M = torch.einsum(\"qd,d,dr->qr\", W_out, S_ch, W_in_x)   # rows=q, cols=r\n",
        "    if rows == \"source\":\n",
        "        M = M.transpose(0,1)                               # rows=r, cols=q\n",
        "\n",
        "    if normalize == \"row_absmax\":\n",
        "        M = M / (M.abs().amax(dim=1, keepdim=True).clamp_min(1e-12))\n",
        "    return M  # [D,D]"
      ]
    },
    {
      "cell_type": "code",
      "execution_count": null,
      "metadata": {
        "id": "_YRFiZrQTtvn"
      },
      "outputs": [],
      "source": [
        "import numpy as np\n",
        "import torch\n",
        "from collections import defaultdict\n",
        "import matplotlib.pyplot as plt\n",
        "import matplotlib as mpl\n",
        "from nilearn import plotting\n",
        "import nibabel as nib\n",
        "from scipy.ndimage import center_of_mass\n",
        "from nibabel.affines import apply_affine\n",
        "import networkx as nx\n",
        "from sklearn.manifold import MDS\n",
        "\n",
        "# =========================\n",
        "# Dataset -> participant -> group averaging (lag = 1)\n",
        "# =========================\n",
        "@torch.no_grad()\n",
        "def group_lag1_average(model, dataloader, device, include_gate=True, rows=\"source\"):\n",
        "    dtype = model.mb.out_proj.weight.dtype\n",
        "\n",
        "    sums  = defaultdict(lambda: None)\n",
        "    counts= defaultdict(int)\n",
        "\n",
        "    for batch in dataloader:\n",
        "        # 1) extract xb and (optional) pid\n",
        "        xb, pid = None, None\n",
        "        if isinstance(batch, (list, tuple)):\n",
        "            xb = batch[0]\n",
        "            # try to find a pid in the remainder\n",
        "            for item in batch[1:]:\n",
        "                # tensor of ints with shape [B]\n",
        "                if isinstance(item, torch.Tensor) and item.dtype in (torch.int64, torch.int32) and item.ndim == 1:\n",
        "                    if item.numel() == xb.shape[0]:\n",
        "                        pid = item\n",
        "                        break\n",
        "                # python list/tuple of len B with str/int entries\n",
        "                if isinstance(item, (list, tuple)) and len(item) == xb.shape[0] and len(item) > 0 and isinstance(item[0], (str, int)):\n",
        "                    pid = item\n",
        "                    break\n",
        "        else:\n",
        "            xb = batch\n",
        "\n",
        "        xb = xb.to(device)\n",
        "        B, L, D = xb.shape\n",
        "\n",
        "        for b in range(B):\n",
        "            seq = xb[b:b+1].to(dtype)  # [1, L, D]\n",
        "            # requires lag1_roi_matrix_hidden(...) to be defined earlier\n",
        "            M = lag1_roi_matrix_hidden(model, seq, include_gate=include_gate, rows=rows, normalize=None)\n",
        "            M = M.detach().cpu()\n",
        "\n",
        "            # participant key\n",
        "            if pid is None:\n",
        "                key = \"ALL\"\n",
        "            else:\n",
        "                if isinstance(pid, torch.Tensor):\n",
        "                    key = int(pid[b].item())\n",
        "                else:\n",
        "                    key = pid[b]  # str or int\n",
        "\n",
        "            sums[key]   = M if sums[key] is None else (sums[key] + M)\n",
        "            counts[key] += 1\n",
        "\n",
        "    per_participant = {k: (sums[k] / counts[k]) for k in sums.keys()}\n",
        "    mats = list(per_participant.values())\n",
        "    A_final = torch.stack(mats, dim=0).mean(dim=0) if len(mats) > 0 else None\n",
        "    return per_participant, A_final\n",
        "\n",
        "# =========================\n",
        "# Brainnetome centroids\n",
        "# =========================\n",
        "def bna_centroids(labels_img_path, label_ids=None):\n",
        "    \"\"\"\n",
        "    Return (label_ids, coords) where coords is [D,3] MNI.\n",
        "    Brainnetome atlas typically uses labels 1..246 (0=background).\n",
        "    \"\"\"\n",
        "    img = nib.load(labels_img_path)\n",
        "    data, aff = img.get_fdata(), img.affine\n",
        "    if label_ids is None:\n",
        "        label_ids = sorted(int(x) for x in np.unique(data) if x > 0)\n",
        "    coords = np.zeros((len(label_ids), 3), float)\n",
        "    for i, lab in enumerate(label_ids):\n",
        "        mask = (data == lab)\n",
        "        coords[i] = apply_affine(aff, center_of_mass(mask.astype(np.float32))) if mask.any() else np.nan\n",
        "    return np.array(label_ids), coords\n",
        "\n",
        "# =========================\n",
        "# Edge selection utilities\n",
        "# =========================\n",
        "def _to_torch_cpu_float(x):\n",
        "    if isinstance(x, torch.Tensor):\n",
        "        return x.detach().float().cpu()\n",
        "    x = np.asarray(x)\n",
        "    return torch.from_numpy(x).float()\n",
        "\n",
        "def topk_sources_per_q(A, k=1):\n",
        "    \"\"\"\n",
        "    A: [D, D] (rows=source r, cols=dest q).\n",
        "    Returns list of (r, q, w) keeping k strongest |sources| per destination q.\n",
        "    \"\"\"\n",
        "    A = _to_torch_cpu_float(A)\n",
        "    D = A.shape[0]\n",
        "    edges = []\n",
        "    for q in range(D):\n",
        "        col = A[:, q]\n",
        "        kq = min(int(k), D)\n",
        "        vals, idx = torch.topk(col.abs(), k=kq)\n",
        "        for j in range(vals.numel()):\n",
        "            r = int(idx[j].item())\n",
        "            w = float(col[r].item())\n",
        "            edges.append((r, q, w))\n",
        "    return edges\n",
        "\n",
        "def keep_top_fraction_global(edges, frac=1/3):\n",
        "    \"\"\"Keep the strongest `frac` of edges by |w| across the whole list.\"\"\"\n",
        "    if len(edges) == 0: return []\n",
        "    n = max(1, int(len(edges) * float(frac)))\n",
        "    return sorted(edges, key=lambda e: abs(e[2]), reverse=True)[:n]\n",
        "\n",
        "def keep_top_per_q_fraction(edges, frac=1/3):\n",
        "    \"\"\"For each destination q, keep the strongest fraction of incoming edges.\"\"\"\n",
        "    buckets = defaultdict(list)\n",
        "    for r, q, w in edges:\n",
        "        buckets[q].append((r, q, w))\n",
        "    out = []\n",
        "    for q, lst in buckets.items():\n",
        "        lst.sort(key=lambda e: abs(e[2]), reverse=True)\n",
        "        m = max(1, int(round(len(lst) * float(frac))))\n",
        "        out.extend(lst[:m])\n",
        "    return out\n",
        "\n",
        "def apply_abs_min(edges, min_abs=0.0):\n",
        "    \"\"\"Drop edges with |w| < min_abs.\"\"\"\n",
        "    return [(r, q, w) for (r, q, w) in edges if abs(w) >= float(min_abs)]\n",
        "\n",
        "# =========================\n",
        "# Visualization — connectome (nilearn) with gradient + hide isolated\n",
        "# =========================\n",
        "def plot_connectome_from_edges_gradient(\n",
        "    edges, coords,\n",
        "    title=\"Lag-1 influence (top-k per ROI)\",\n",
        "    cmap=\"coolwarm\",\n",
        "    figsize=(16, 8), dpi=180,\n",
        "    hide_isolated=True,\n",
        "    node_size_base=10, node_size_range=90\n",
        "):\n",
        "\n",
        "    coords = np.asarray(coords)\n",
        "    D = coords.shape[0]\n",
        "\n",
        "    # build signed adjacency for nilearn (symmetrized for display)\n",
        "    A = np.zeros((D, D), float)\n",
        "    for r, q, w in edges:\n",
        "        A[r, q] = w\n",
        "        A[q, r] = w\n",
        "\n",
        "    # mask isolated nodes\n",
        "    if hide_isolated:\n",
        "        active = (A != 0).any(axis=0) | (A != 0).any(axis=1)\n",
        "        kept_idx = np.flatnonzero(active)\n",
        "        if kept_idx.size == 0:\n",
        "            print(\"Nothing to plot (no edges survived).\")\n",
        "            return None, None, None, kept_idx\n",
        "        A = A[active][:, active]\n",
        "        coords = coords[active]\n",
        "    else:\n",
        "        kept_idx = np.arange(D)\n",
        "\n",
        "    # node sizes by incident magnitude\n",
        "    strength = np.abs(A).sum(axis=1)\n",
        "    node_size = (node_size_base + node_size_range * (strength / (strength.max() + 1e-12))).tolist() if A.size else [node_size_base]\n",
        "\n",
        "    vmax = float(np.nanmax(np.abs(A))) if A.size else 1.0\n",
        "    fig, ax = plt.subplots(1, 1, figsize=figsize, dpi=dpi)\n",
        "    disp = plotting.plot_connectome(\n",
        "        adjacency_matrix=A,\n",
        "        node_coords=coords,\n",
        "        node_size=node_size,\n",
        "        edge_threshold=None,\n",
        "        edge_cmap=cmap,\n",
        "        edge_vmin=-vmax, edge_vmax=vmax,\n",
        "        title=title,\n",
        "        axes=ax,\n",
        "    )\n",
        "    # colorbar\n",
        "    norm = mpl.colors.TwoSlopeNorm(vmin=-vmax, vcenter=0.0, vmax=vmax)\n",
        "    sm = mpl.cm.ScalarMappable(norm=norm, cmap=cmap)\n",
        "    sm.set_array([])\n",
        "    fig.colorbar(sm, ax=ax, fraction=0.046, pad=0.04, label=\"edge strength (signed)\")\n",
        "    plt.show()\n",
        "    return disp, fig, ax, kept_idx\n",
        "\n",
        "# =========================\n",
        "# Visualization — directed 2D with gradient (arrows)\n",
        "# =========================\n",
        "def plot_directed_edges_gradient(\n",
        "    edges, coords,\n",
        "    title=\"Lag-1 influence (directed, gradient)\",\n",
        "    cmap=\"coolwarm\", width_min=0.8, width_max=4.0, gamma=1.0,\n",
        "    figsize=(8,7), dpi=160, node_size=10\n",
        "):\n",
        "    coords = np.asarray(coords)\n",
        "    D = coords.shape[0]\n",
        "    # 2D layout from 3D\n",
        "    xy = MDS(n_components=2, dissimilarity='euclidean', random_state=0).fit_transform(coords)\n",
        "\n",
        "    G = nx.DiGraph()\n",
        "    for u in range(D):\n",
        "        G.add_node(u, pos=(xy[u,0], xy[u,1]))\n",
        "\n",
        "    Wmax = max((abs(w) for _,_,w in edges), default=1.0)\n",
        "    norm = mpl.colors.TwoSlopeNorm(vmin=-Wmax, vcenter=0.0, vmax=Wmax)\n",
        "    cmap_obj = mpl.cm.get_cmap(cmap)\n",
        "\n",
        "    ec, ew = [], []\n",
        "    for r, q, w in edges:\n",
        "        G.add_edge(r, q, weight=w)\n",
        "        ec.append(cmap_obj(norm(w)))\n",
        "        s = (abs(w) / (Wmax + 1e-12)) ** gamma\n",
        "        ew.append(width_min + (width_max - width_min) * s)\n",
        "\n",
        "    pos = nx.get_node_attributes(G, 'pos')\n",
        "    fig = plt.figure(figsize=figsize, dpi=dpi)\n",
        "    nx.draw(G, pos, node_size=node_size, arrows=True, arrowstyle='-|>', arrowsize=12, edge_color=ec, width=ew)\n",
        "    sm = mpl.cm.ScalarMappable(norm=norm, cmap=cmap_obj); sm.set_array([])\n",
        "    plt.colorbar(sm, fraction=0.046, pad=0.04, label=\"edge strength (signed)\")\n",
        "    plt.title(title); plt.tight_layout(); plt.show()\n",
        "    return fig"
      ]
    },
    {
      "cell_type": "code",
      "execution_count": null,
      "metadata": {
        "id": "4Hh7E6BlTtvn"
      },
      "outputs": [],
      "source": [
        "# --- 1) Build the group-average lag-1 matrix ---\n",
        "device = next(model.parameters()).device\n",
        "per_participant, A_final = group_lag1_average(mamba, train_loader, device, include_gate=True, rows=\"source\")\n",
        "\n",
        "# --- 2) Brainnetome centroids ---\n",
        "atlas_path = \"/kaggle/input/brainnetome/BN_Atlas_246_2mm.nii\"\n",
        "label_ids, coords = bna_centroids(atlas_path)\n",
        "\n",
        "# --- 3) Build and thin edges ---\n",
        "# start from one strongest source per ROI (very clean), then optionally keep only the strongest quarter\n",
        "edges_all = topk_sources_per_q(A_final, k=1)\n",
        "edges = keep_top_fraction_global(edges_all, frac=1/8) # strongest 25% globally\n",
        "# also drop tiny edges if you want:\n",
        "\n",
        "# --- 4A) Brain connectome with gradient & hidden isolated nodes ---\n",
        "disp, fig, ax, kept_idx = plot_connectome_from_edges_gradient(\n",
        "    edges, coords,\n",
        "    title=\"Brainnetome — lag-1 (top-1 per ROI, strongest quarter)\",\n",
        "    figsize=(16, 8), dpi=180,\n",
        "    hide_isolated=True\n",
        ")\n",
        "\n",
        "# --- 4B) (optional) Directed 2D arrows with gradient ---\n",
        "_ = plot_directed_edges_gradient(\n",
        "    edges, coords,\n",
        "    title=\"Lag-1 (top-1 per ROI, strongest quarter, directed gradient)\",\n",
        "    figsize=(9,8), dpi=180, node_size=12\n",
        ")\n",
        "\n",
        "# --- 5) (optional) Save the brain figure ---\n",
        "# fig.savefig(\"connectome_lag1_top1_strongest_quarter.png\", dpi=300, bbox_inches=\"tight\")"
      ]
    }
  ],
  "metadata": {
    "accelerator": "GPU",
    "colab": {
      "gpuType": "T4",
      "provenance": [],
      "include_colab_link": true
    },
    "kaggle": {
      "accelerator": "nvidiaTeslaT4",
      "dataSources": [
        {
          "datasetId": 8143183,
          "sourceId": 12872925,
          "sourceType": "datasetVersion"
        },
        {
          "datasetId": 8153172,
          "sourceId": 12886705,
          "sourceType": "datasetVersion"
        },
        {
          "datasetId": 7946110,
          "sourceId": 12888647,
          "sourceType": "datasetVersion"
        }
      ],
      "dockerImageVersionId": 31089,
      "isGpuEnabled": true,
      "isInternetEnabled": true,
      "language": "python",
      "sourceType": "notebook"
    },
    "kernelspec": {
      "display_name": "Python 3",
      "name": "python3"
    },
    "language_info": {
      "codemirror_mode": {
        "name": "ipython",
        "version": 3
      },
      "file_extension": ".py",
      "mimetype": "text/x-python",
      "name": "python",
      "nbconvert_exporter": "python",
      "pygments_lexer": "ipython3",
      "version": "3.11.13"
    },
    "widgets": {
      "application/vnd.jupyter.widget-state+json": {
        "5b355461449948f6b9f9076486c44b60": {
          "model_module": "@jupyter-widgets/controls",
          "model_name": "VBoxModel",
          "model_module_version": "1.5.0",
          "state": {
            "_dom_classes": [],
            "_model_module": "@jupyter-widgets/controls",
            "_model_module_version": "1.5.0",
            "_model_name": "VBoxModel",
            "_view_count": null,
            "_view_module": "@jupyter-widgets/controls",
            "_view_module_version": "1.5.0",
            "_view_name": "VBoxView",
            "box_style": "",
            "children": [
              "IPY_MODEL_7e55e19b76eb4636bbf2fe234e17f56b"
            ],
            "layout": "IPY_MODEL_a100fa15eb284b089b1be1054fe4efb7"
          }
        },
        "fff0e412dea44dc9960e60633c656ae2": {
          "model_module": "@jupyter-widgets/controls",
          "model_name": "HTMLModel",
          "model_module_version": "1.5.0",
          "state": {
            "_dom_classes": [],
            "_model_module": "@jupyter-widgets/controls",
            "_model_module_version": "1.5.0",
            "_model_name": "HTMLModel",
            "_view_count": null,
            "_view_module": "@jupyter-widgets/controls",
            "_view_module_version": "1.5.0",
            "_view_name": "HTMLView",
            "description": "",
            "description_tooltip": null,
            "layout": "IPY_MODEL_30f0f99103ac406eadfa88e7c5717dc7",
            "placeholder": "​",
            "style": "IPY_MODEL_46ee07d21052480da414e0ce071013f2",
            "value": "<center> <img\nsrc=https://www.kaggle.com/static/images/site-logo.png\nalt='Kaggle'> <br> Create an API token from <a\nhref=\"https://www.kaggle.com/settings/account\" target=\"_blank\">your Kaggle\nsettings page</a> and paste it below along with your Kaggle username. <br> </center>"
          }
        },
        "58a48c3ccf4a4db784ded9be87e308a5": {
          "model_module": "@jupyter-widgets/controls",
          "model_name": "TextModel",
          "model_module_version": "1.5.0",
          "state": {
            "_dom_classes": [],
            "_model_module": "@jupyter-widgets/controls",
            "_model_module_version": "1.5.0",
            "_model_name": "TextModel",
            "_view_count": null,
            "_view_module": "@jupyter-widgets/controls",
            "_view_module_version": "1.5.0",
            "_view_name": "TextView",
            "continuous_update": true,
            "description": "Username:",
            "description_tooltip": null,
            "disabled": false,
            "layout": "IPY_MODEL_b6c5cb4591b04baaa0ce1975132f60a2",
            "placeholder": "​",
            "style": "IPY_MODEL_0bb9ad586fef4200b3d948cae4fee890",
            "value": "kelsingo"
          }
        },
        "ddd1ccaaeaed49948574af5ecc7f2aa0": {
          "model_module": "@jupyter-widgets/controls",
          "model_name": "PasswordModel",
          "model_module_version": "1.5.0",
          "state": {
            "_dom_classes": [],
            "_model_module": "@jupyter-widgets/controls",
            "_model_module_version": "1.5.0",
            "_model_name": "PasswordModel",
            "_view_count": null,
            "_view_module": "@jupyter-widgets/controls",
            "_view_module_version": "1.5.0",
            "_view_name": "PasswordView",
            "continuous_update": true,
            "description": "Token:",
            "description_tooltip": null,
            "disabled": false,
            "layout": "IPY_MODEL_498d92805c0d41359bc8e8eb86aa576b",
            "placeholder": "​",
            "style": "IPY_MODEL_fcba232276be4c7aba2437f3ccd46766",
            "value": ""
          }
        },
        "9d13d7eb21ef4825b47692ab3b359d45": {
          "model_module": "@jupyter-widgets/controls",
          "model_name": "ButtonModel",
          "model_module_version": "1.5.0",
          "state": {
            "_dom_classes": [],
            "_model_module": "@jupyter-widgets/controls",
            "_model_module_version": "1.5.0",
            "_model_name": "ButtonModel",
            "_view_count": null,
            "_view_module": "@jupyter-widgets/controls",
            "_view_module_version": "1.5.0",
            "_view_name": "ButtonView",
            "button_style": "",
            "description": "Login",
            "disabled": false,
            "icon": "",
            "layout": "IPY_MODEL_fb42b1e1d0674dea8dc10d658fe8ef85",
            "style": "IPY_MODEL_dc7febcc8d064b4ea38aacbe2f3c4864",
            "tooltip": ""
          }
        },
        "68410bd191af41378ce2727bfcfae774": {
          "model_module": "@jupyter-widgets/controls",
          "model_name": "HTMLModel",
          "model_module_version": "1.5.0",
          "state": {
            "_dom_classes": [],
            "_model_module": "@jupyter-widgets/controls",
            "_model_module_version": "1.5.0",
            "_model_name": "HTMLModel",
            "_view_count": null,
            "_view_module": "@jupyter-widgets/controls",
            "_view_module_version": "1.5.0",
            "_view_name": "HTMLView",
            "description": "",
            "description_tooltip": null,
            "layout": "IPY_MODEL_ed077d0409e44817ab842d7305a53982",
            "placeholder": "​",
            "style": "IPY_MODEL_39ba6784ef0f49008a1b8b9c0f76ab29",
            "value": "\n<b>Thank You</b></center>"
          }
        },
        "a100fa15eb284b089b1be1054fe4efb7": {
          "model_module": "@jupyter-widgets/base",
          "model_name": "LayoutModel",
          "model_module_version": "1.2.0",
          "state": {
            "_model_module": "@jupyter-widgets/base",
            "_model_module_version": "1.2.0",
            "_model_name": "LayoutModel",
            "_view_count": null,
            "_view_module": "@jupyter-widgets/base",
            "_view_module_version": "1.2.0",
            "_view_name": "LayoutView",
            "align_content": null,
            "align_items": "center",
            "align_self": null,
            "border": null,
            "bottom": null,
            "display": "flex",
            "flex": null,
            "flex_flow": "column",
            "grid_area": null,
            "grid_auto_columns": null,
            "grid_auto_flow": null,
            "grid_auto_rows": null,
            "grid_column": null,
            "grid_gap": null,
            "grid_row": null,
            "grid_template_areas": null,
            "grid_template_columns": null,
            "grid_template_rows": null,
            "height": null,
            "justify_content": null,
            "justify_items": null,
            "left": null,
            "margin": null,
            "max_height": null,
            "max_width": null,
            "min_height": null,
            "min_width": null,
            "object_fit": null,
            "object_position": null,
            "order": null,
            "overflow": null,
            "overflow_x": null,
            "overflow_y": null,
            "padding": null,
            "right": null,
            "top": null,
            "visibility": null,
            "width": "50%"
          }
        },
        "30f0f99103ac406eadfa88e7c5717dc7": {
          "model_module": "@jupyter-widgets/base",
          "model_name": "LayoutModel",
          "model_module_version": "1.2.0",
          "state": {
            "_model_module": "@jupyter-widgets/base",
            "_model_module_version": "1.2.0",
            "_model_name": "LayoutModel",
            "_view_count": null,
            "_view_module": "@jupyter-widgets/base",
            "_view_module_version": "1.2.0",
            "_view_name": "LayoutView",
            "align_content": null,
            "align_items": null,
            "align_self": null,
            "border": null,
            "bottom": null,
            "display": null,
            "flex": null,
            "flex_flow": null,
            "grid_area": null,
            "grid_auto_columns": null,
            "grid_auto_flow": null,
            "grid_auto_rows": null,
            "grid_column": null,
            "grid_gap": null,
            "grid_row": null,
            "grid_template_areas": null,
            "grid_template_columns": null,
            "grid_template_rows": null,
            "height": null,
            "justify_content": null,
            "justify_items": null,
            "left": null,
            "margin": null,
            "max_height": null,
            "max_width": null,
            "min_height": null,
            "min_width": null,
            "object_fit": null,
            "object_position": null,
            "order": null,
            "overflow": null,
            "overflow_x": null,
            "overflow_y": null,
            "padding": null,
            "right": null,
            "top": null,
            "visibility": null,
            "width": null
          }
        },
        "46ee07d21052480da414e0ce071013f2": {
          "model_module": "@jupyter-widgets/controls",
          "model_name": "DescriptionStyleModel",
          "model_module_version": "1.5.0",
          "state": {
            "_model_module": "@jupyter-widgets/controls",
            "_model_module_version": "1.5.0",
            "_model_name": "DescriptionStyleModel",
            "_view_count": null,
            "_view_module": "@jupyter-widgets/base",
            "_view_module_version": "1.2.0",
            "_view_name": "StyleView",
            "description_width": ""
          }
        },
        "b6c5cb4591b04baaa0ce1975132f60a2": {
          "model_module": "@jupyter-widgets/base",
          "model_name": "LayoutModel",
          "model_module_version": "1.2.0",
          "state": {
            "_model_module": "@jupyter-widgets/base",
            "_model_module_version": "1.2.0",
            "_model_name": "LayoutModel",
            "_view_count": null,
            "_view_module": "@jupyter-widgets/base",
            "_view_module_version": "1.2.0",
            "_view_name": "LayoutView",
            "align_content": null,
            "align_items": null,
            "align_self": null,
            "border": null,
            "bottom": null,
            "display": null,
            "flex": null,
            "flex_flow": null,
            "grid_area": null,
            "grid_auto_columns": null,
            "grid_auto_flow": null,
            "grid_auto_rows": null,
            "grid_column": null,
            "grid_gap": null,
            "grid_row": null,
            "grid_template_areas": null,
            "grid_template_columns": null,
            "grid_template_rows": null,
            "height": null,
            "justify_content": null,
            "justify_items": null,
            "left": null,
            "margin": null,
            "max_height": null,
            "max_width": null,
            "min_height": null,
            "min_width": null,
            "object_fit": null,
            "object_position": null,
            "order": null,
            "overflow": null,
            "overflow_x": null,
            "overflow_y": null,
            "padding": null,
            "right": null,
            "top": null,
            "visibility": null,
            "width": null
          }
        },
        "0bb9ad586fef4200b3d948cae4fee890": {
          "model_module": "@jupyter-widgets/controls",
          "model_name": "DescriptionStyleModel",
          "model_module_version": "1.5.0",
          "state": {
            "_model_module": "@jupyter-widgets/controls",
            "_model_module_version": "1.5.0",
            "_model_name": "DescriptionStyleModel",
            "_view_count": null,
            "_view_module": "@jupyter-widgets/base",
            "_view_module_version": "1.2.0",
            "_view_name": "StyleView",
            "description_width": ""
          }
        },
        "498d92805c0d41359bc8e8eb86aa576b": {
          "model_module": "@jupyter-widgets/base",
          "model_name": "LayoutModel",
          "model_module_version": "1.2.0",
          "state": {
            "_model_module": "@jupyter-widgets/base",
            "_model_module_version": "1.2.0",
            "_model_name": "LayoutModel",
            "_view_count": null,
            "_view_module": "@jupyter-widgets/base",
            "_view_module_version": "1.2.0",
            "_view_name": "LayoutView",
            "align_content": null,
            "align_items": null,
            "align_self": null,
            "border": null,
            "bottom": null,
            "display": null,
            "flex": null,
            "flex_flow": null,
            "grid_area": null,
            "grid_auto_columns": null,
            "grid_auto_flow": null,
            "grid_auto_rows": null,
            "grid_column": null,
            "grid_gap": null,
            "grid_row": null,
            "grid_template_areas": null,
            "grid_template_columns": null,
            "grid_template_rows": null,
            "height": null,
            "justify_content": null,
            "justify_items": null,
            "left": null,
            "margin": null,
            "max_height": null,
            "max_width": null,
            "min_height": null,
            "min_width": null,
            "object_fit": null,
            "object_position": null,
            "order": null,
            "overflow": null,
            "overflow_x": null,
            "overflow_y": null,
            "padding": null,
            "right": null,
            "top": null,
            "visibility": null,
            "width": null
          }
        },
        "fcba232276be4c7aba2437f3ccd46766": {
          "model_module": "@jupyter-widgets/controls",
          "model_name": "DescriptionStyleModel",
          "model_module_version": "1.5.0",
          "state": {
            "_model_module": "@jupyter-widgets/controls",
            "_model_module_version": "1.5.0",
            "_model_name": "DescriptionStyleModel",
            "_view_count": null,
            "_view_module": "@jupyter-widgets/base",
            "_view_module_version": "1.2.0",
            "_view_name": "StyleView",
            "description_width": ""
          }
        },
        "fb42b1e1d0674dea8dc10d658fe8ef85": {
          "model_module": "@jupyter-widgets/base",
          "model_name": "LayoutModel",
          "model_module_version": "1.2.0",
          "state": {
            "_model_module": "@jupyter-widgets/base",
            "_model_module_version": "1.2.0",
            "_model_name": "LayoutModel",
            "_view_count": null,
            "_view_module": "@jupyter-widgets/base",
            "_view_module_version": "1.2.0",
            "_view_name": "LayoutView",
            "align_content": null,
            "align_items": null,
            "align_self": null,
            "border": null,
            "bottom": null,
            "display": null,
            "flex": null,
            "flex_flow": null,
            "grid_area": null,
            "grid_auto_columns": null,
            "grid_auto_flow": null,
            "grid_auto_rows": null,
            "grid_column": null,
            "grid_gap": null,
            "grid_row": null,
            "grid_template_areas": null,
            "grid_template_columns": null,
            "grid_template_rows": null,
            "height": null,
            "justify_content": null,
            "justify_items": null,
            "left": null,
            "margin": null,
            "max_height": null,
            "max_width": null,
            "min_height": null,
            "min_width": null,
            "object_fit": null,
            "object_position": null,
            "order": null,
            "overflow": null,
            "overflow_x": null,
            "overflow_y": null,
            "padding": null,
            "right": null,
            "top": null,
            "visibility": null,
            "width": null
          }
        },
        "dc7febcc8d064b4ea38aacbe2f3c4864": {
          "model_module": "@jupyter-widgets/controls",
          "model_name": "ButtonStyleModel",
          "model_module_version": "1.5.0",
          "state": {
            "_model_module": "@jupyter-widgets/controls",
            "_model_module_version": "1.5.0",
            "_model_name": "ButtonStyleModel",
            "_view_count": null,
            "_view_module": "@jupyter-widgets/base",
            "_view_module_version": "1.2.0",
            "_view_name": "StyleView",
            "button_color": null,
            "font_weight": ""
          }
        },
        "ed077d0409e44817ab842d7305a53982": {
          "model_module": "@jupyter-widgets/base",
          "model_name": "LayoutModel",
          "model_module_version": "1.2.0",
          "state": {
            "_model_module": "@jupyter-widgets/base",
            "_model_module_version": "1.2.0",
            "_model_name": "LayoutModel",
            "_view_count": null,
            "_view_module": "@jupyter-widgets/base",
            "_view_module_version": "1.2.0",
            "_view_name": "LayoutView",
            "align_content": null,
            "align_items": null,
            "align_self": null,
            "border": null,
            "bottom": null,
            "display": null,
            "flex": null,
            "flex_flow": null,
            "grid_area": null,
            "grid_auto_columns": null,
            "grid_auto_flow": null,
            "grid_auto_rows": null,
            "grid_column": null,
            "grid_gap": null,
            "grid_row": null,
            "grid_template_areas": null,
            "grid_template_columns": null,
            "grid_template_rows": null,
            "height": null,
            "justify_content": null,
            "justify_items": null,
            "left": null,
            "margin": null,
            "max_height": null,
            "max_width": null,
            "min_height": null,
            "min_width": null,
            "object_fit": null,
            "object_position": null,
            "order": null,
            "overflow": null,
            "overflow_x": null,
            "overflow_y": null,
            "padding": null,
            "right": null,
            "top": null,
            "visibility": null,
            "width": null
          }
        },
        "39ba6784ef0f49008a1b8b9c0f76ab29": {
          "model_module": "@jupyter-widgets/controls",
          "model_name": "DescriptionStyleModel",
          "model_module_version": "1.5.0",
          "state": {
            "_model_module": "@jupyter-widgets/controls",
            "_model_module_version": "1.5.0",
            "_model_name": "DescriptionStyleModel",
            "_view_count": null,
            "_view_module": "@jupyter-widgets/base",
            "_view_module_version": "1.2.0",
            "_view_name": "StyleView",
            "description_width": ""
          }
        },
        "896406bd3bee43ce94bb6ea246401da8": {
          "model_module": "@jupyter-widgets/controls",
          "model_name": "LabelModel",
          "model_module_version": "1.5.0",
          "state": {
            "_dom_classes": [],
            "_model_module": "@jupyter-widgets/controls",
            "_model_module_version": "1.5.0",
            "_model_name": "LabelModel",
            "_view_count": null,
            "_view_module": "@jupyter-widgets/controls",
            "_view_module_version": "1.5.0",
            "_view_name": "LabelView",
            "description": "",
            "description_tooltip": null,
            "layout": "IPY_MODEL_4d6c09f1d534441082ac161d38e452e1",
            "placeholder": "​",
            "style": "IPY_MODEL_2d0670823a954bc287c1fa9edd1ed007",
            "value": "Connecting..."
          }
        },
        "4d6c09f1d534441082ac161d38e452e1": {
          "model_module": "@jupyter-widgets/base",
          "model_name": "LayoutModel",
          "model_module_version": "1.2.0",
          "state": {
            "_model_module": "@jupyter-widgets/base",
            "_model_module_version": "1.2.0",
            "_model_name": "LayoutModel",
            "_view_count": null,
            "_view_module": "@jupyter-widgets/base",
            "_view_module_version": "1.2.0",
            "_view_name": "LayoutView",
            "align_content": null,
            "align_items": null,
            "align_self": null,
            "border": null,
            "bottom": null,
            "display": null,
            "flex": null,
            "flex_flow": null,
            "grid_area": null,
            "grid_auto_columns": null,
            "grid_auto_flow": null,
            "grid_auto_rows": null,
            "grid_column": null,
            "grid_gap": null,
            "grid_row": null,
            "grid_template_areas": null,
            "grid_template_columns": null,
            "grid_template_rows": null,
            "height": null,
            "justify_content": null,
            "justify_items": null,
            "left": null,
            "margin": null,
            "max_height": null,
            "max_width": null,
            "min_height": null,
            "min_width": null,
            "object_fit": null,
            "object_position": null,
            "order": null,
            "overflow": null,
            "overflow_x": null,
            "overflow_y": null,
            "padding": null,
            "right": null,
            "top": null,
            "visibility": null,
            "width": null
          }
        },
        "2d0670823a954bc287c1fa9edd1ed007": {
          "model_module": "@jupyter-widgets/controls",
          "model_name": "DescriptionStyleModel",
          "model_module_version": "1.5.0",
          "state": {
            "_model_module": "@jupyter-widgets/controls",
            "_model_module_version": "1.5.0",
            "_model_name": "DescriptionStyleModel",
            "_view_count": null,
            "_view_module": "@jupyter-widgets/base",
            "_view_module_version": "1.2.0",
            "_view_name": "StyleView",
            "description_width": ""
          }
        },
        "7e55e19b76eb4636bbf2fe234e17f56b": {
          "model_module": "@jupyter-widgets/controls",
          "model_name": "LabelModel",
          "model_module_version": "1.5.0",
          "state": {
            "_dom_classes": [],
            "_model_module": "@jupyter-widgets/controls",
            "_model_module_version": "1.5.0",
            "_model_name": "LabelModel",
            "_view_count": null,
            "_view_module": "@jupyter-widgets/controls",
            "_view_module_version": "1.5.0",
            "_view_name": "LabelView",
            "description": "",
            "description_tooltip": null,
            "layout": "IPY_MODEL_f79c76da24ae46a48b3f5126e1931583",
            "placeholder": "​",
            "style": "IPY_MODEL_f8c2703e05784b29926c3abe46342745",
            "value": "Kaggle credentials successfully validated."
          }
        },
        "f79c76da24ae46a48b3f5126e1931583": {
          "model_module": "@jupyter-widgets/base",
          "model_name": "LayoutModel",
          "model_module_version": "1.2.0",
          "state": {
            "_model_module": "@jupyter-widgets/base",
            "_model_module_version": "1.2.0",
            "_model_name": "LayoutModel",
            "_view_count": null,
            "_view_module": "@jupyter-widgets/base",
            "_view_module_version": "1.2.0",
            "_view_name": "LayoutView",
            "align_content": null,
            "align_items": null,
            "align_self": null,
            "border": null,
            "bottom": null,
            "display": null,
            "flex": null,
            "flex_flow": null,
            "grid_area": null,
            "grid_auto_columns": null,
            "grid_auto_flow": null,
            "grid_auto_rows": null,
            "grid_column": null,
            "grid_gap": null,
            "grid_row": null,
            "grid_template_areas": null,
            "grid_template_columns": null,
            "grid_template_rows": null,
            "height": null,
            "justify_content": null,
            "justify_items": null,
            "left": null,
            "margin": null,
            "max_height": null,
            "max_width": null,
            "min_height": null,
            "min_width": null,
            "object_fit": null,
            "object_position": null,
            "order": null,
            "overflow": null,
            "overflow_x": null,
            "overflow_y": null,
            "padding": null,
            "right": null,
            "top": null,
            "visibility": null,
            "width": null
          }
        },
        "f8c2703e05784b29926c3abe46342745": {
          "model_module": "@jupyter-widgets/controls",
          "model_name": "DescriptionStyleModel",
          "model_module_version": "1.5.0",
          "state": {
            "_model_module": "@jupyter-widgets/controls",
            "_model_module_version": "1.5.0",
            "_model_name": "DescriptionStyleModel",
            "_view_count": null,
            "_view_module": "@jupyter-widgets/base",
            "_view_module_version": "1.2.0",
            "_view_name": "StyleView",
            "description_width": ""
          }
        }
      }
    }
  },
  "nbformat": 4,
  "nbformat_minor": 0
}